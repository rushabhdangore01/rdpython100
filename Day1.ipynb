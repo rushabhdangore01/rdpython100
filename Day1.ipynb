{
  "nbformat": 4,
  "nbformat_minor": 0,
  "metadata": {
    "colab": {
      "provenance": [],
      "toc_visible": true
    },
    "kernelspec": {
      "name": "python3",
      "display_name": "Python 3"
    },
    "language_info": {
      "name": "python"
    }
  },
  "cells": [
    {
      "cell_type": "markdown",
      "source": [
        "#Python Problem"
      ],
      "metadata": {
        "id": "MUxrpQzk98yn"
      }
    },
    {
      "cell_type": "markdown",
      "source": [
        "\n",
        "\n",
        "```\n",
        "# This is formatted as code\n",
        "```\n",
        "\n",
        "##1.String"
      ],
      "metadata": {
        "id": "8jYScExk98Z7"
      }
    },
    {
      "cell_type": "code",
      "execution_count": null,
      "metadata": {
        "colab": {
          "base_uri": "https://localhost:8080/"
        },
        "id": "Xo5n3Owy9w--",
        "outputId": "e495426d-a98d-4e01-9595-242b689f2b22"
      },
      "outputs": [
        {
          "output_type": "stream",
          "name": "stdout",
          "text": [
            "Hello world!\n"
          ]
        }
      ],
      "source": [
        "print(\"Hello world!\")"
      ]
    },
    {
      "cell_type": "code",
      "source": [
        "print(\"Hello World! \\nHello World!\")"
      ],
      "metadata": {
        "colab": {
          "base_uri": "https://localhost:8080/"
        },
        "id": "DND9okIgEa1C",
        "outputId": "3d7a58b3-ff92-4131-92fc-c27c06c42818"
      },
      "execution_count": null,
      "outputs": [
        {
          "output_type": "stream",
          "name": "stdout",
          "text": [
            "Hello World! \n",
            "Hello World!\n"
          ]
        }
      ]
    },
    {
      "cell_type": "code",
      "source": [
        "print(\"Day 1 - String Manipulation\")\n",
        "print(\"String Concatenation is done with the \"+\" sign.\")\n",
        "print('(e.g. print\"+\"(\"Hello\" + \"world\")')\n",
        "print(\"New lines can be created with a backslash and n.\")"
      ],
      "metadata": {
        "colab": {
          "base_uri": "https://localhost:8080/"
        },
        "id": "KC2Qs_beGVw0",
        "outputId": "7824b466-390b-4178-86ec-96c5ddcbc709"
      },
      "execution_count": null,
      "outputs": [
        {
          "output_type": "stream",
          "name": "stdout",
          "text": [
            "Day 1 - String Manipulation\n",
            "String Concatenation is done with the  sign.\n",
            "(e.g. print\"+\"(\"Hello\" + \"world\")\n",
            "New lines can be created with a backslash and n.\n"
          ]
        }
      ]
    },
    {
      "cell_type": "markdown",
      "source": [
        "##2.Input Function"
      ],
      "metadata": {
        "id": "MnO8yraQIuQw"
      }
    },
    {
      "cell_type": "code",
      "source": [
        "\n",
        "#Input function\n",
        "print (\"Hello \"+input(\"Enter your Name \"))"
      ],
      "metadata": {
        "colab": {
          "base_uri": "https://localhost:8080/"
        },
        "id": "oxgqZMCaKFzc",
        "outputId": "1365a362-7969-42d8-c9ec-4b84288aa651"
      },
      "execution_count": null,
      "outputs": [
        {
          "output_type": "stream",
          "name": "stdout",
          "text": [
            "Enter your Name Rushabh\n",
            "Hello Rushabh\n"
          ]
        }
      ]
    },
    {
      "cell_type": "code",
      "source": [
        "name=input(\"Enter your name \")\n",
        "print(name)"
      ],
      "metadata": {
        "colab": {
          "base_uri": "https://localhost:8080/"
        },
        "id": "5J8p7WU3Lwc4",
        "outputId": "10973b36-eef6-4b4b-d292-a31bd4ebae71"
      },
      "execution_count": null,
      "outputs": [
        {
          "output_type": "stream",
          "name": "stdout",
          "text": [
            "Enter your name Rushabh\n",
            "Rushabh\n"
          ]
        }
      ]
    },
    {
      "cell_type": "markdown",
      "source": [
        "#Section2"
      ],
      "metadata": {
        "id": "ncSCJJIUkbYo"
      }
    },
    {
      "cell_type": "markdown",
      "source": [
        "##1.Type checking"
      ],
      "metadata": {
        "id": "dfpSOY-ykixn"
      }
    },
    {
      "cell_type": "code",
      "source": [
        "# Type Checking\n",
        "x = 42\n",
        "y = \"Hello, World!\"\n",
        "\n",
        "print(type(x))\n",
        "print(type(y))\n",
        "\n",
        "a = \"123\"\n",
        "b = int(a)  # Convert a string to an integer\n",
        "c = float(a)  # Convert a string to a float\n",
        "d = str(x)  # Convert an integer to a string\n",
        "\n",
        "print(b)\n",
        "print(c)\n",
        "print(d)\n",
        "print(e)\n",
        "\n",
        "# Check the types of converted variables\n",
        "print(type(b))  # <class 'int'>\n",
        "print(type(c))  # <class 'float'>\n",
        "print(type(d))  # <class 'str'>\n"
      ],
      "metadata": {
        "colab": {
          "base_uri": "https://localhost:8080/"
        },
        "id": "_wDuDyoslLSO",
        "outputId": "264cd423-a294-4925-e158-8a75d623f511"
      },
      "execution_count": null,
      "outputs": [
        {
          "output_type": "stream",
          "name": "stdout",
          "text": [
            "<class 'int'>\n",
            "<class 'str'>\n",
            "123\n",
            "123.0\n",
            "42\n",
            "[1, 2, 3]\n",
            "<class 'int'>\n",
            "<class 'float'>\n",
            "<class 'str'>\n"
          ]
        }
      ]
    },
    {
      "cell_type": "markdown",
      "source": [
        "##2.BMI"
      ],
      "metadata": {
        "id": "WqYqZQ2XnIq3"
      }
    },
    {
      "cell_type": "code",
      "source": [
        "height = float(input())  # Convert height to a float\n",
        "weight = float(input())  # Convert weight to a float\n",
        "\n",
        "bmi = weight / (height ** 2)\n",
        "bmi_as_int = int(bmi)  # Convert the result to an integer\n",
        "\n",
        "print(bmi_as_int)\n"
      ],
      "metadata": {
        "colab": {
          "base_uri": "https://localhost:8080/"
        },
        "id": "ZBwqzhEYnOKH",
        "outputId": "e98f596e-7003-4cbc-bb4f-2b4b0753222c"
      },
      "execution_count": null,
      "outputs": [
        {
          "output_type": "stream",
          "name": "stdout",
          "text": [
            "1.7\n",
            "60\n",
            "20\n"
          ]
        }
      ]
    },
    {
      "cell_type": "markdown",
      "source": [
        "##3.Practice"
      ],
      "metadata": {
        "id": "pCpDGyU1pOy4"
      }
    },
    {
      "cell_type": "code",
      "source": [
        "print(round(9.56536737))"
      ],
      "metadata": {
        "colab": {
          "base_uri": "https://localhost:8080/"
        },
        "id": "ehPowvuapW1a",
        "outputId": "7c336658-80e6-4b21-90f5-8c386c77d8dd"
      },
      "execution_count": null,
      "outputs": [
        {
          "output_type": "stream",
          "name": "stdout",
          "text": [
            "10\n"
          ]
        }
      ]
    },
    {
      "cell_type": "code",
      "source": [
        "print (7//6)"
      ],
      "metadata": {
        "colab": {
          "base_uri": "https://localhost:8080/"
        },
        "id": "7dJG_n7wpkcH",
        "outputId": "4242a675-2afa-4854-f790-a48855d59350"
      },
      "execution_count": null,
      "outputs": [
        {
          "output_type": "stream",
          "name": "stdout",
          "text": [
            "1\n"
          ]
        }
      ]
    },
    {
      "cell_type": "markdown",
      "source": [
        "##4.fString"
      ],
      "metadata": {
        "id": "MlvAAbA9shUY"
      }
    },
    {
      "cell_type": "code",
      "source": [
        "score = 0\n",
        "height = 1.8\n",
        "isWinning = True\n",
        "\n",
        "#f-String\n",
        "\n",
        "#print (\"Your Score is\" + score)\n",
        "\n",
        "print(f\"your score is {score}, your height is {height}, you are winning is {isWinning}\")"
      ],
      "metadata": {
        "colab": {
          "base_uri": "https://localhost:8080/"
        },
        "id": "ioDfTw5Osm94",
        "outputId": "67a39572-647b-4293-ba55-2e8bf7d07142"
      },
      "execution_count": null,
      "outputs": [
        {
          "output_type": "stream",
          "name": "stdout",
          "text": [
            "your score is 0, your height is 1.8, you are winning is True\n"
          ]
        }
      ]
    },
    {
      "cell_type": "code",
      "source": [
        "age = input()\n",
        "# Your code below this line 👇\n",
        "years = 90 - int(age)\n",
        "weeks = years * 52\n",
        "\n",
        "print(f\"You have {weeks} weeks left.\")\n"
      ],
      "metadata": {
        "colab": {
          "base_uri": "https://localhost:8080/"
        },
        "id": "G22UtqpS6Gow",
        "outputId": "794cf0d6-6460-44e2-8370-542be69097f7"
      },
      "execution_count": null,
      "outputs": [
        {
          "output_type": "stream",
          "name": "stdout",
          "text": [
            "22\n",
            "You have 3536 weeks left.\n"
          ]
        }
      ]
    },
    {
      "cell_type": "markdown",
      "source": [
        "##5.Tip Calculator"
      ],
      "metadata": {
        "id": "eP6vt3Id7Q80"
      }
    },
    {
      "cell_type": "code",
      "source": [
        "print(\"Welcome to the tip calculator!\")\n",
        "bill = float(input(\"What was the total bill? $\"))\n",
        "tip = int(input(\"How much tip would you like to give? 10, 12, or 15? \"))\n",
        "people = int(input(\"How many people to split the bill?\"))\n",
        "\n",
        "tip_as_percent = tip / 100\n",
        "total_tip_amount = bill * tip_as_percent\n",
        "total_bill = bill + total_tip_amount\n",
        "bill_per_person = total_bill / people\n",
        "final_amount = round(bill_per_person, 2)\n",
        "\n",
        "\n",
        "print(f\"Each person should pay: ${final_amount}\")"
      ],
      "metadata": {
        "colab": {
          "base_uri": "https://localhost:8080/"
        },
        "id": "XnL5NSmJ7N4o",
        "outputId": "f7ffbba2-e76c-46c4-897a-db5dea1ef613"
      },
      "execution_count": null,
      "outputs": [
        {
          "output_type": "stream",
          "name": "stdout",
          "text": [
            "Welcome to the tip calculator!\n",
            "What was the total bill? $100\n",
            "How much tip would you like to give? 10, 12, or 15? 12\n",
            "How many people to split the bill?4\n",
            "Each person should pay: $28.0\n"
          ]
        }
      ]
    },
    {
      "cell_type": "markdown",
      "source": [
        "#Section3"
      ],
      "metadata": {
        "id": "ok94a2Be7tGY"
      }
    },
    {
      "cell_type": "markdown",
      "source": [
        "##1.if else"
      ],
      "metadata": {
        "id": "jX6R0Ss47zZj"
      }
    },
    {
      "cell_type": "code",
      "source": [
        "print(\"Welcome to the rollercoaster!\")\n",
        "\n",
        "height = int(input(\"What is your height in cm? \"))\n",
        "\n",
        "if height == 120:\n",
        "  print(\"You can ride the rollercoaster!\")\n",
        "\n",
        "else:\n",
        "  print(\"Sorry, you have to grow taller before you can ride.\")"
      ],
      "metadata": {
        "colab": {
          "base_uri": "https://localhost:8080/"
        },
        "id": "xL_cj7i77siY",
        "outputId": "2aecbe2e-f360-4875-9f22-83bebc23ab10"
      },
      "execution_count": null,
      "outputs": [
        {
          "output_type": "stream",
          "name": "stdout",
          "text": [
            "Welcome to the rollercoaster!\n",
            "What is your height in cm? 109\n",
            "Sorry, you have to grow taller before you can ride.\n"
          ]
        }
      ]
    },
    {
      "cell_type": "code",
      "source": [
        "number = int(input())\n",
        "\n",
        "if number % 2 == 0:\n",
        "  print(\"This is an even number.\")\n",
        "else:\n",
        "  print(\"This is an odd number.\")"
      ],
      "metadata": {
        "colab": {
          "base_uri": "https://localhost:8080/"
        },
        "id": "WMueO2sT86VN",
        "outputId": "be87af03-58e7-4d43-b544-4f9d0570318d"
      },
      "execution_count": null,
      "outputs": [
        {
          "output_type": "stream",
          "name": "stdout",
          "text": [
            "10\n",
            "This is an even number.\n"
          ]
        }
      ]
    },
    {
      "cell_type": "markdown",
      "source": [
        "##2.Nested if and elif"
      ],
      "metadata": {
        "id": "Ee0k-7Ud-aUd"
      }
    },
    {
      "cell_type": "code",
      "source": [
        "print(\"Welcome to the rollercoaster!\")\n",
        "\n",
        "height = int(input(\"What is your height in cm? \"))\n",
        "if height >= 120:\n",
        "  print(\"You can ride the rollercoaster!\")\n",
        "\n",
        "  age = int(input(\"What is your age?\"))\n",
        "  if age < 12:\n",
        "    print(\"Please pay $5.\")\n",
        "\n",
        "  elif age <= 18:\n",
        "    print(\"Please pay $7.\")\n",
        "\n",
        "  else:\n",
        "    print(\"Please pay $12.\")\n",
        "\n",
        "else:\n",
        "  print(\"Sorry, you have to grow taller before you can ride.\")"
      ],
      "metadata": {
        "colab": {
          "base_uri": "https://localhost:8080/"
        },
        "id": "lgRvFuTE-esX",
        "outputId": "e73638f6-a548-4e5e-f74f-cb77ed23d71e"
      },
      "execution_count": null,
      "outputs": [
        {
          "output_type": "stream",
          "name": "stdout",
          "text": [
            "Welcome to the rollercoaster!\n",
            "What is your height in cm? 140\n",
            "You can ride the rollercoaster!\n",
            "What is your age?12\n",
            "Please pay $7.\n"
          ]
        }
      ]
    },
    {
      "cell_type": "markdown",
      "source": [
        "BMI with if else"
      ],
      "metadata": {
        "id": "F79ILj0p_tdM"
      }
    },
    {
      "cell_type": "code",
      "source": [
        "height = float(input(\"Enter height in m\"))  # Convert height to a float\n",
        "weight = float(input(\"enter weight in kg\"))  # Convert weight to a float\n",
        "bmi = weight / (height * height)\n",
        "if bmi < 18.5:\n",
        "  print(f\"Your BMI is {bmi}, you are underweight.\")\n",
        "elif bmi < 25:\n",
        "  print(f\"Your BMI is {bmi}, you have a normal weight.\")\n",
        "elif bmi < 30:\n",
        "  print(f\"Your BMI is {bmi}, you are slightly overweight.\")\n",
        "elif bmi < 35:\n",
        "  print(f\"Your BMI is {bmi}, you are obese.\")\n",
        "else:\n",
        "  print(f\"Your BMI is {bmi}, you are clinically obese.\")"
      ],
      "metadata": {
        "colab": {
          "base_uri": "https://localhost:8080/"
        },
        "id": "IrAtjsyH_sK4",
        "outputId": "f9382790-a339-4260-bcbb-291664167f03"
      },
      "execution_count": null,
      "outputs": [
        {
          "output_type": "stream",
          "name": "stdout",
          "text": [
            "Enter height in m1.6\n",
            "enter weight in kg77\n",
            "Your BMI is 30.078124999999993, you are obese.\n"
          ]
        }
      ]
    },
    {
      "cell_type": "markdown",
      "source": [
        "##3.Logical Operator"
      ],
      "metadata": {
        "id": "BmndTE0BEEeM"
      }
    },
    {
      "cell_type": "code",
      "source": [
        "\n",
        "age = int(input(\"Enter your age: \"))\n",
        "is_citizen = input(\"Are you a citizen (Y or N)? \")\n",
        "\n",
        "# Define the voting eligibility criteria\n",
        "voting_age = 18\n",
        "\n",
        "# Check if the person is eligible to vote\n",
        "if age >= voting_age and is_citizen == \"Y\":\n",
        "    print(\"You are eligible to vote.\")\n",
        "else:\n",
        "    print(\"You are not eligible to vote.\")\n",
        "\n",
        "# Additional check for non-citizens\n",
        "if age >= voting_age and is_citizen == \"N\":\n",
        "    print(\"You are eligible to vote in the future once you become a citizen.\")\n"
      ],
      "metadata": {
        "colab": {
          "base_uri": "https://localhost:8080/"
        },
        "id": "BfeDCUsTEKG1",
        "outputId": "0d5eec71-bf63-4fd3-fe5d-f7d7c66ca8e2"
      },
      "execution_count": null,
      "outputs": [
        {
          "output_type": "stream",
          "name": "stdout",
          "text": [
            "Enter your age: 21\n",
            "Are you a citizen (Y or N)? Y\n",
            "You are eligible to vote.\n"
          ]
        }
      ]
    },
    {
      "cell_type": "markdown",
      "source": [
        "#Section4"
      ],
      "metadata": {
        "id": "V3p22dxWSsRW"
      }
    },
    {
      "cell_type": "markdown",
      "source": [
        "##1.Random Module"
      ],
      "metadata": {
        "id": "JocUJ0eTSx_i"
      }
    },
    {
      "cell_type": "code",
      "source": [
        "import random\n",
        "\n",
        "randomInteger=random.randint(1,10)\n",
        "print(randomInteger)\n",
        "\n",
        "randomFloat=random.random()\n",
        "print(randomFloat)"
      ],
      "metadata": {
        "colab": {
          "base_uri": "https://localhost:8080/"
        },
        "id": "EiQ5oosLS6be",
        "outputId": "f03ccd26-20f9-4017-9b50-34663d3969de"
      },
      "execution_count": null,
      "outputs": [
        {
          "output_type": "stream",
          "name": "stdout",
          "text": [
            "8\n",
            "0.06297770263305513\n"
          ]
        }
      ]
    },
    {
      "cell_type": "code",
      "source": [
        "import random\n",
        "random_side=random.randint(0,1)\n",
        "\n",
        "if random_side==1:\n",
        "  print(\"Head\")\n",
        "\n",
        "else:\n",
        "  print(\"Tail\")"
      ],
      "metadata": {
        "colab": {
          "base_uri": "https://localhost:8080/"
        },
        "id": "G3IkWABldDr4",
        "outputId": "f6a687f9-8630-4d99-adaf-3fc279d9d97c"
      },
      "execution_count": null,
      "outputs": [
        {
          "output_type": "stream",
          "name": "stdout",
          "text": [
            "Tail\n"
          ]
        }
      ]
    },
    {
      "cell_type": "markdown",
      "source": [
        "##2.List"
      ],
      "metadata": {
        "id": "UUomKmW1vt34"
      }
    },
    {
      "cell_type": "markdown",
      "source": [
        "append and extend in list"
      ],
      "metadata": {
        "id": "Y9hjLsKon3KA"
      }
    },
    {
      "cell_type": "code",
      "source": [
        "student_name= [\"Justine\",\"Lailah\",\"Keagan\",\"Tobias\",\"Izabelle\",\"Cristal\",\"Ari\",\"Kelton\",\"Kinley\",\"Beckham\"]\n",
        "\n",
        "print(student_name[0])\n",
        "print(student_name[5])\n",
        "\n",
        "student_name.append(\"john\")\n",
        "student_name.extend([\"Rushabh\",\"virat\",\"Rohit\"])\n",
        "print(student_name)"
      ],
      "metadata": {
        "colab": {
          "base_uri": "https://localhost:8080/"
        },
        "id": "PcMMPzvnfswT",
        "outputId": "d0e9cdbc-e4ff-4437-e374-6d4c9f7fdb08"
      },
      "execution_count": null,
      "outputs": [
        {
          "output_type": "stream",
          "name": "stdout",
          "text": [
            "Justine\n",
            "Cristal\n",
            "['Justine', 'Lailah', 'Keagan', 'Tobias', 'Izabelle', 'Cristal', 'Ari', 'Kelton', 'Kinley', 'Beckham', 'john', 'Rushabh', 'virat', 'Rohit']\n"
          ]
        }
      ]
    },
    {
      "cell_type": "markdown",
      "source": [
        "merging two list"
      ],
      "metadata": {
        "id": "2cHmp1zhnz6S"
      }
    },
    {
      "cell_type": "code",
      "source": [
        "fruits = [\"apple\", \"banana\", \"orange\", \"grape\", \"kiwi\"]\n",
        "numbers = [1, 5, 10, 15, 20]\n",
        "\n",
        "list=[fruits,numbers]\n",
        "print(list)"
      ],
      "metadata": {
        "colab": {
          "base_uri": "https://localhost:8080/"
        },
        "id": "ZZ5n4_bOnAvC",
        "outputId": "fd9a25a6-bfea-49cc-e35c-7d52142e546e"
      },
      "execution_count": null,
      "outputs": [
        {
          "output_type": "stream",
          "name": "stdout",
          "text": [
            "[['apple', 'banana', 'orange', 'grape', 'kiwi'], [1, 5, 10, 15, 20]]\n"
          ]
        }
      ]
    },
    {
      "cell_type": "markdown",
      "source": [
        "Rock Paper Scissor"
      ],
      "metadata": {
        "id": "w3pOaVorpZel"
      }
    },
    {
      "cell_type": "code",
      "source": [
        "import random\n",
        "user_choice = int(input(\"What do you choose? Type 0 for Rock, 1 for Paper or 2 for Scissors.\\n\"))\n",
        "\n",
        "computer_choice = random.randint(0, 2)\n",
        "print(f\"Computer chose: {computer_choice}\")\n",
        "\n",
        "if user_choice >= 3 or user_choice < 0:\n",
        "  print(\"You typed an invalid number, you lose!\")\n",
        "elif user_choice == 0 and computer_choice == 2:\n",
        "  print(\"You win!\")\n",
        "elif computer_choice == 0 and user_choice == 2:\n",
        "  print(\"You lose\")\n",
        "elif computer_choice > user_choice:\n",
        "  print(\"You lose\")\n",
        "elif user_choice > computer_choice:\n",
        "  print(\"You win!\")\n",
        "elif computer_choice == user_choice:\n",
        "  print(\"It's a draw\")"
      ],
      "metadata": {
        "colab": {
          "base_uri": "https://localhost:8080/"
        },
        "id": "6AVJROWepYTl",
        "outputId": "2f626a5a-efb2-41ca-8ebb-7ba02dbf996c"
      },
      "execution_count": null,
      "outputs": [
        {
          "output_type": "stream",
          "name": "stdout",
          "text": [
            "What do you choose? Type 0 for Rock, 1 for Paper or 2 for Scissors.\n",
            "2\n",
            "Computer chose: 1\n",
            "You win!\n"
          ]
        }
      ]
    }
  ]
}