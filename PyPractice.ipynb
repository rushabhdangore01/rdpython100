{
  "nbformat": 4,
  "nbformat_minor": 0,
  "metadata": {
    "colab": {
      "provenance": []
    },
    "kernelspec": {
      "name": "python3",
      "display_name": "Python 3"
    },
    "language_info": {
      "name": "python"
    }
  },
  "cells": [
    {
      "cell_type": "code",
      "source": [
        "max num"
      ],
      "metadata": {
        "id": "mAmuu7zgREhR"
      },
      "execution_count": null,
      "outputs": []
    },
    {
      "cell_type": "code",
      "execution_count": 7,
      "metadata": {
        "colab": {
          "base_uri": "https://localhost:8080/"
        },
        "id": "5dtKJcYANSwD",
        "outputId": "77d0f1e9-31b7-4d24-f026-2607ea107d9e"
      },
      "outputs": [
        {
          "output_type": "stream",
          "name": "stdout",
          "text": [
            "maximum value 90\n"
          ]
        }
      ],
      "source": [
        "grade=[85,67,76,89,90]\n",
        "\n",
        "a=len(grade)\n",
        "sum=0\n",
        "maxvalue=grade[0]\n",
        "\n",
        "for i in grade:\n",
        "\n",
        "    if i>maxvalue:\n",
        "        maxvalue=i\n",
        "\n",
        "print(\"maximum value\",maxvalue)\n",
        "\n"
      ]
    },
    {
      "cell_type": "markdown",
      "source": [
        "avg of list"
      ],
      "metadata": {
        "id": "Dd9Jezw8QpNu"
      }
    },
    {
      "cell_type": "code",
      "source": [
        "grade=[85,67,76,89,90]\n",
        "\n",
        "a=len(grade)\n",
        "sum=0\n",
        "\n",
        "for i in grade:\n",
        "    sum=sum+i\n",
        "\n",
        "\n",
        "avg=sum/a\n",
        "\n",
        "print(\"Average of grades:\",avg)"
      ],
      "metadata": {
        "colab": {
          "base_uri": "https://localhost:8080/"
        },
        "id": "qDQ53SRgQ2rs",
        "outputId": "03cbcba3-54f4-45ec-a419-eb1038ce3bd5"
      },
      "execution_count": 6,
      "outputs": [
        {
          "output_type": "stream",
          "name": "stdout",
          "text": [
            "Average of grades: 81.4\n"
          ]
        }
      ]
    },
    {
      "cell_type": "markdown",
      "source": [
        "sum of list"
      ],
      "metadata": {
        "id": "xN_BOKLhQdrt"
      }
    },
    {
      "cell_type": "code",
      "source": [
        "list1 = [12, 3, 4, 15]\n",
        "sum=0\n",
        "for i in list1:\n",
        "  sum+=i\n",
        "print(sum)\n"
      ],
      "metadata": {
        "colab": {
          "base_uri": "https://localhost:8080/"
        },
        "id": "W-_RvNb9N10n",
        "outputId": "a3017952-cb5f-41f3-abf5-d7fb6fc1144c"
      },
      "execution_count": 5,
      "outputs": [
        {
          "output_type": "stream",
          "name": "stdout",
          "text": [
            "34\n"
          ]
        }
      ]
    },
    {
      "cell_type": "markdown",
      "source": [
        "to find length of list"
      ],
      "metadata": {
        "id": "B6cWIHbBRLKZ"
      }
    },
    {
      "cell_type": "code",
      "source": [
        "list = [1,4,5,7,8,8]\n",
        "\n",
        "len= 0\n",
        "for i in list:\n",
        "\n",
        "\tlen = len + 1\n",
        "\n",
        "print(\"Length of list is : \",len)\n"
      ],
      "metadata": {
        "colab": {
          "base_uri": "https://localhost:8080/"
        },
        "id": "DtU6TKzxR_Uz",
        "outputId": "1f75a797-f398-4b03-b45e-d973f14fa33d"
      },
      "execution_count": 8,
      "outputs": [
        {
          "output_type": "stream",
          "name": "stdout",
          "text": [
            "Length of list is :  6\n"
          ]
        }
      ]
    },
    {
      "cell_type": "code",
      "source": [
        "test_list = [1, 6, 3, 5, 3, 4]\n",
        "\n",
        "for i in test_list:\n",
        "\n",
        "  if i == 9:\n",
        "    print(\"Element Exists\")\n",
        "    break\n",
        "\n",
        "  else:\n",
        "    print(\"Not exist\")\n",
        "    break\n",
        "\n"
      ],
      "metadata": {
        "colab": {
          "base_uri": "https://localhost:8080/"
        },
        "id": "Zk2U9eQoTAhF",
        "outputId": "3d49cd02-b1ef-4c66-cdf8-a4ff35a97fb8"
      },
      "execution_count": 23,
      "outputs": [
        {
          "output_type": "stream",
          "name": "stdout",
          "text": [
            "Not exist\n"
          ]
        }
      ]
    },
    {
      "cell_type": "markdown",
      "source": [
        "contain substring or not"
      ],
      "metadata": {
        "id": "Z9nu8ygyYs9E"
      }
    },
    {
      "cell_type": "code",
      "source": [
        "String = \"A geek in need is a geek indeed\"\n",
        "\n",
        "if \"need\" in String:\n",
        "\tprint(\"Yes! it is present in the string\")\n",
        "else:\n",
        "\tprint(\"No! it is not present\")\n"
      ],
      "metadata": {
        "colab": {
          "base_uri": "https://localhost:8080/"
        },
        "id": "jgkXLXP0Yv9u",
        "outputId": "b40dd343-431f-4503-908e-bd693caf41a0"
      },
      "execution_count": 24,
      "outputs": [
        {
          "output_type": "stream",
          "name": "stdout",
          "text": [
            "Yes! it is present in the string\n"
          ]
        }
      ]
    },
    {
      "cell_type": "code",
      "source": [
        "String = input('Enter the string :')\n",
        "count = 0\n",
        "String = String.lower()\n",
        "for i in String:\n",
        "    if i == 'a' or i == 'e' or i == 'i' or i == 'o' or i == 'u':\n",
        "        #if True\n",
        "        count+=1\n",
        "#check if any vowel found\n",
        "if count == 0:\n",
        "    print('No vowels found')\n",
        "else:\n",
        "    print('Total vowels are :' + str(count))"
      ],
      "metadata": {
        "colab": {
          "base_uri": "https://localhost:8080/"
        },
        "id": "GvO8TnlWb3sW",
        "outputId": "ab93323c-8741-4251-b121-a53231a6e8ff"
      },
      "execution_count": 25,
      "outputs": [
        {
          "output_type": "stream",
          "name": "stdout",
          "text": [
            "Enter the string :The rabbit runs fast\n",
            "Total vowels are :5\n"
          ]
        }
      ]
    }
  ]
}