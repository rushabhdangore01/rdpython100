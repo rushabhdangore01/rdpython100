{
  "nbformat": 4,
  "nbformat_minor": 0,
  "metadata": {
    "colab": {
      "provenance": [],
      "toc_visible": true
    },
    "kernelspec": {
      "name": "python3",
      "display_name": "Python 3"
    },
    "language_info": {
      "name": "python"
    }
  },
  "cells": [
    {
      "cell_type": "markdown",
      "source": [
        "#Python Problem"
      ],
      "metadata": {
        "id": "MUxrpQzk98yn"
      }
    },
    {
      "cell_type": "markdown",
      "source": [
        "\n",
        "\n",
        "```\n",
        "# This is formatted as code\n",
        "```\n",
        "\n",
        "##1.String"
      ],
      "metadata": {
        "id": "8jYScExk98Z7"
      }
    },
    {
      "cell_type": "code",
      "execution_count": null,
      "metadata": {
        "colab": {
          "base_uri": "https://localhost:8080/"
        },
        "id": "Xo5n3Owy9w--",
        "outputId": "e495426d-a98d-4e01-9595-242b689f2b22"
      },
      "outputs": [
        {
          "output_type": "stream",
          "name": "stdout",
          "text": [
            "Hello world!\n"
          ]
        }
      ],
      "source": [
        "print(\"Hello world!\")"
      ]
    },
    {
      "cell_type": "code",
      "source": [
        "print(\"Hello World! \\nHello World!\")"
      ],
      "metadata": {
        "colab": {
          "base_uri": "https://localhost:8080/"
        },
        "id": "DND9okIgEa1C",
        "outputId": "3d7a58b3-ff92-4131-92fc-c27c06c42818"
      },
      "execution_count": null,
      "outputs": [
        {
          "output_type": "stream",
          "name": "stdout",
          "text": [
            "Hello World! \n",
            "Hello World!\n"
          ]
        }
      ]
    },
    {
      "cell_type": "code",
      "source": [
        "print(\"Day 1 - String Manipulation\")\n",
        "print(\"String Concatenation is done with the \"+\" sign.\")\n",
        "print('(e.g. print\"+\"(\"Hello\" + \"world\")')\n",
        "print(\"New lines can be created with a backslash and n.\")"
      ],
      "metadata": {
        "colab": {
          "base_uri": "https://localhost:8080/"
        },
        "id": "KC2Qs_beGVw0",
        "outputId": "7824b466-390b-4178-86ec-96c5ddcbc709"
      },
      "execution_count": null,
      "outputs": [
        {
          "output_type": "stream",
          "name": "stdout",
          "text": [
            "Day 1 - String Manipulation\n",
            "String Concatenation is done with the  sign.\n",
            "(e.g. print\"+\"(\"Hello\" + \"world\")\n",
            "New lines can be created with a backslash and n.\n"
          ]
        }
      ]
    },
    {
      "cell_type": "markdown",
      "source": [
        "##2.Input Function"
      ],
      "metadata": {
        "id": "MnO8yraQIuQw"
      }
    },
    {
      "cell_type": "code",
      "source": [
        "\n",
        "#Input function\n",
        "print (\"Hello \"+input(\"Enter your Name \"))"
      ],
      "metadata": {
        "colab": {
          "base_uri": "https://localhost:8080/"
        },
        "id": "oxgqZMCaKFzc",
        "outputId": "1365a362-7969-42d8-c9ec-4b84288aa651"
      },
      "execution_count": null,
      "outputs": [
        {
          "output_type": "stream",
          "name": "stdout",
          "text": [
            "Enter your Name Rushabh\n",
            "Hello Rushabh\n"
          ]
        }
      ]
    },
    {
      "cell_type": "code",
      "source": [
        "name=input(\"Enter your name \")\n",
        "print(name)"
      ],
      "metadata": {
        "colab": {
          "base_uri": "https://localhost:8080/"
        },
        "id": "5J8p7WU3Lwc4",
        "outputId": "10973b36-eef6-4b4b-d292-a31bd4ebae71"
      },
      "execution_count": null,
      "outputs": [
        {
          "output_type": "stream",
          "name": "stdout",
          "text": [
            "Enter your name Rushabh\n",
            "Rushabh\n"
          ]
        }
      ]
    },
    {
      "cell_type": "markdown",
      "source": [
        "#Section2"
      ],
      "metadata": {
        "id": "ncSCJJIUkbYo"
      }
    },
    {
      "cell_type": "markdown",
      "source": [
        "##1.Type checking"
      ],
      "metadata": {
        "id": "dfpSOY-ykixn"
      }
    },
    {
      "cell_type": "code",
      "source": [
        "# Type Checking\n",
        "x = 42\n",
        "y = \"Hello, World!\"\n",
        "\n",
        "print(type(x))\n",
        "print(type(y))\n",
        "\n",
        "a = \"123\"\n",
        "b = int(a)  # Convert a string to an integer\n",
        "c = float(a)  # Convert a string to a float\n",
        "d = str(x)  # Convert an integer to a string\n",
        "\n",
        "print(b)\n",
        "print(c)\n",
        "print(d)\n",
        "print(e)\n",
        "\n",
        "# Check the types of converted variables\n",
        "print(type(b))  # <class 'int'>\n",
        "print(type(c))  # <class 'float'>\n",
        "print(type(d))  # <class 'str'>\n"
      ],
      "metadata": {
        "colab": {
          "base_uri": "https://localhost:8080/"
        },
        "id": "_wDuDyoslLSO",
        "outputId": "264cd423-a294-4925-e158-8a75d623f511"
      },
      "execution_count": null,
      "outputs": [
        {
          "output_type": "stream",
          "name": "stdout",
          "text": [
            "<class 'int'>\n",
            "<class 'str'>\n",
            "123\n",
            "123.0\n",
            "42\n",
            "[1, 2, 3]\n",
            "<class 'int'>\n",
            "<class 'float'>\n",
            "<class 'str'>\n"
          ]
        }
      ]
    },
    {
      "cell_type": "markdown",
      "source": [
        "##2.BMI"
      ],
      "metadata": {
        "id": "WqYqZQ2XnIq3"
      }
    },
    {
      "cell_type": "code",
      "source": [
        "height = float(input())  # Convert height to a float\n",
        "weight = float(input())  # Convert weight to a float\n",
        "\n",
        "bmi = weight / (height ** 2)\n",
        "bmi_as_int = int(bmi)  # Convert the result to an integer\n",
        "\n",
        "print(bmi_as_int)\n"
      ],
      "metadata": {
        "colab": {
          "base_uri": "https://localhost:8080/"
        },
        "id": "ZBwqzhEYnOKH",
        "outputId": "e98f596e-7003-4cbc-bb4f-2b4b0753222c"
      },
      "execution_count": null,
      "outputs": [
        {
          "output_type": "stream",
          "name": "stdout",
          "text": [
            "1.7\n",
            "60\n",
            "20\n"
          ]
        }
      ]
    },
    {
      "cell_type": "markdown",
      "source": [
        "##3.Practice"
      ],
      "metadata": {
        "id": "pCpDGyU1pOy4"
      }
    },
    {
      "cell_type": "code",
      "source": [
        "print(round(9.56536737))"
      ],
      "metadata": {
        "colab": {
          "base_uri": "https://localhost:8080/"
        },
        "id": "ehPowvuapW1a",
        "outputId": "7c336658-80e6-4b21-90f5-8c386c77d8dd"
      },
      "execution_count": null,
      "outputs": [
        {
          "output_type": "stream",
          "name": "stdout",
          "text": [
            "10\n"
          ]
        }
      ]
    },
    {
      "cell_type": "code",
      "source": [
        "print (7//6)"
      ],
      "metadata": {
        "colab": {
          "base_uri": "https://localhost:8080/"
        },
        "id": "7dJG_n7wpkcH",
        "outputId": "4242a675-2afa-4854-f790-a48855d59350"
      },
      "execution_count": null,
      "outputs": [
        {
          "output_type": "stream",
          "name": "stdout",
          "text": [
            "1\n"
          ]
        }
      ]
    },
    {
      "cell_type": "markdown",
      "source": [
        "##4.fString"
      ],
      "metadata": {
        "id": "MlvAAbA9shUY"
      }
    },
    {
      "cell_type": "code",
      "source": [
        "score = 0\n",
        "height = 1.8\n",
        "isWinning = True\n",
        "\n",
        "#f-String\n",
        "\n",
        "#print (\"Your Score is\" + score)\n",
        "\n",
        "print(f\"your score is {score}, your height is {height}, you are winning is {isWinning}\")"
      ],
      "metadata": {
        "colab": {
          "base_uri": "https://localhost:8080/"
        },
        "id": "ioDfTw5Osm94",
        "outputId": "67a39572-647b-4293-ba55-2e8bf7d07142"
      },
      "execution_count": null,
      "outputs": [
        {
          "output_type": "stream",
          "name": "stdout",
          "text": [
            "your score is 0, your height is 1.8, you are winning is True\n"
          ]
        }
      ]
    },
    {
      "cell_type": "code",
      "source": [
        "age = input()\n",
        "# Your code below this line 👇\n",
        "years = 90 - int(age)\n",
        "weeks = years * 52\n",
        "\n",
        "print(f\"You have {weeks} weeks left.\")\n"
      ],
      "metadata": {
        "colab": {
          "base_uri": "https://localhost:8080/"
        },
        "id": "G22UtqpS6Gow",
        "outputId": "794cf0d6-6460-44e2-8370-542be69097f7"
      },
      "execution_count": null,
      "outputs": [
        {
          "output_type": "stream",
          "name": "stdout",
          "text": [
            "22\n",
            "You have 3536 weeks left.\n"
          ]
        }
      ]
    },
    {
      "cell_type": "markdown",
      "source": [
        "##5.Tip Calculator"
      ],
      "metadata": {
        "id": "eP6vt3Id7Q80"
      }
    },
    {
      "cell_type": "code",
      "source": [
        "print(\"Welcome to the tip calculator!\")\n",
        "bill = float(input(\"What was the total bill? $\"))\n",
        "tip = int(input(\"How much tip would you like to give? 10, 12, or 15? \"))\n",
        "people = int(input(\"How many people to split the bill?\"))\n",
        "\n",
        "tip_as_percent = tip / 100\n",
        "total_tip_amount = bill * tip_as_percent\n",
        "total_bill = bill + total_tip_amount\n",
        "bill_per_person = total_bill / people\n",
        "final_amount = round(bill_per_person, 2)\n",
        "\n",
        "\n",
        "print(f\"Each person should pay: ${final_amount}\")"
      ],
      "metadata": {
        "colab": {
          "base_uri": "https://localhost:8080/"
        },
        "id": "XnL5NSmJ7N4o",
        "outputId": "f7ffbba2-e76c-46c4-897a-db5dea1ef613"
      },
      "execution_count": null,
      "outputs": [
        {
          "output_type": "stream",
          "name": "stdout",
          "text": [
            "Welcome to the tip calculator!\n",
            "What was the total bill? $100\n",
            "How much tip would you like to give? 10, 12, or 15? 12\n",
            "How many people to split the bill?4\n",
            "Each person should pay: $28.0\n"
          ]
        }
      ]
    },
    {
      "cell_type": "markdown",
      "source": [
        "#Section3"
      ],
      "metadata": {
        "id": "ok94a2Be7tGY"
      }
    },
    {
      "cell_type": "markdown",
      "source": [
        "##1.if else"
      ],
      "metadata": {
        "id": "jX6R0Ss47zZj"
      }
    },
    {
      "cell_type": "code",
      "source": [
        "print(\"Welcome to the rollercoaster!\")\n",
        "\n",
        "height = int(input(\"What is your height in cm? \"))\n",
        "\n",
        "if height == 120:\n",
        "  print(\"You can ride the rollercoaster!\")\n",
        "\n",
        "else:\n",
        "  print(\"Sorry, you have to grow taller before you can ride.\")"
      ],
      "metadata": {
        "colab": {
          "base_uri": "https://localhost:8080/"
        },
        "id": "xL_cj7i77siY",
        "outputId": "2aecbe2e-f360-4875-9f22-83bebc23ab10"
      },
      "execution_count": null,
      "outputs": [
        {
          "output_type": "stream",
          "name": "stdout",
          "text": [
            "Welcome to the rollercoaster!\n",
            "What is your height in cm? 109\n",
            "Sorry, you have to grow taller before you can ride.\n"
          ]
        }
      ]
    },
    {
      "cell_type": "code",
      "source": [
        "number = int(input())\n",
        "\n",
        "if number % 2 == 0:\n",
        "  print(\"This is an even number.\")\n",
        "else:\n",
        "  print(\"This is an odd number.\")"
      ],
      "metadata": {
        "colab": {
          "base_uri": "https://localhost:8080/"
        },
        "id": "WMueO2sT86VN",
        "outputId": "be87af03-58e7-4d43-b544-4f9d0570318d"
      },
      "execution_count": null,
      "outputs": [
        {
          "output_type": "stream",
          "name": "stdout",
          "text": [
            "10\n",
            "This is an even number.\n"
          ]
        }
      ]
    },
    {
      "cell_type": "markdown",
      "source": [
        "##2.Nested if and elif"
      ],
      "metadata": {
        "id": "Ee0k-7Ud-aUd"
      }
    },
    {
      "cell_type": "code",
      "source": [
        "print(\"Welcome to the rollercoaster!\")\n",
        "\n",
        "height = int(input(\"What is your height in cm? \"))\n",
        "if height >= 120:\n",
        "  print(\"You can ride the rollercoaster!\")\n",
        "\n",
        "  age = int(input(\"What is your age?\"))\n",
        "  if age < 12:\n",
        "    print(\"Please pay $5.\")\n",
        "\n",
        "  elif age <= 18:\n",
        "    print(\"Please pay $7.\")\n",
        "\n",
        "  else:\n",
        "    print(\"Please pay $12.\")\n",
        "\n",
        "else:\n",
        "  print(\"Sorry, you have to grow taller before you can ride.\")"
      ],
      "metadata": {
        "colab": {
          "base_uri": "https://localhost:8080/"
        },
        "id": "lgRvFuTE-esX",
        "outputId": "e73638f6-a548-4e5e-f74f-cb77ed23d71e"
      },
      "execution_count": null,
      "outputs": [
        {
          "output_type": "stream",
          "name": "stdout",
          "text": [
            "Welcome to the rollercoaster!\n",
            "What is your height in cm? 140\n",
            "You can ride the rollercoaster!\n",
            "What is your age?12\n",
            "Please pay $7.\n"
          ]
        }
      ]
    },
    {
      "cell_type": "markdown",
      "source": [
        "BMI with if else"
      ],
      "metadata": {
        "id": "F79ILj0p_tdM"
      }
    },
    {
      "cell_type": "code",
      "source": [
        "height = float(input(\"Enter height in m\"))  # Convert height to a float\n",
        "weight = float(input(\"enter weight in kg\"))  # Convert weight to a float\n",
        "bmi = weight / (height * height)\n",
        "if bmi < 18.5:\n",
        "  print(f\"Your BMI is {bmi}, you are underweight.\")\n",
        "elif bmi < 25:\n",
        "  print(f\"Your BMI is {bmi}, you have a normal weight.\")\n",
        "elif bmi < 30:\n",
        "  print(f\"Your BMI is {bmi}, you are slightly overweight.\")\n",
        "elif bmi < 35:\n",
        "  print(f\"Your BMI is {bmi}, you are obese.\")\n",
        "else:\n",
        "  print(f\"Your BMI is {bmi}, you are clinically obese.\")"
      ],
      "metadata": {
        "colab": {
          "base_uri": "https://localhost:8080/"
        },
        "id": "IrAtjsyH_sK4",
        "outputId": "f9382790-a339-4260-bcbb-291664167f03"
      },
      "execution_count": null,
      "outputs": [
        {
          "output_type": "stream",
          "name": "stdout",
          "text": [
            "Enter height in m1.6\n",
            "enter weight in kg77\n",
            "Your BMI is 30.078124999999993, you are obese.\n"
          ]
        }
      ]
    },
    {
      "cell_type": "markdown",
      "source": [
        "##3.Logical Operator"
      ],
      "metadata": {
        "id": "BmndTE0BEEeM"
      }
    },
    {
      "cell_type": "code",
      "source": [
        "\n",
        "age = int(input(\"Enter your age: \"))\n",
        "is_citizen = input(\"Are you a citizen (Y or N)? \")\n",
        "\n",
        "# Define the voting eligibility criteria\n",
        "voting_age = 18\n",
        "\n",
        "# Check if the person is eligible to vote\n",
        "if age >= voting_age and is_citizen == \"Y\":\n",
        "    print(\"You are eligible to vote.\")\n",
        "else:\n",
        "    print(\"You are not eligible to vote.\")\n",
        "\n",
        "# Additional check for non-citizens\n",
        "if age >= voting_age and is_citizen == \"N\":\n",
        "    print(\"You are eligible to vote in the future once you become a citizen.\")\n"
      ],
      "metadata": {
        "colab": {
          "base_uri": "https://localhost:8080/"
        },
        "id": "BfeDCUsTEKG1",
        "outputId": "0d5eec71-bf63-4fd3-fe5d-f7d7c66ca8e2"
      },
      "execution_count": null,
      "outputs": [
        {
          "output_type": "stream",
          "name": "stdout",
          "text": [
            "Enter your age: 21\n",
            "Are you a citizen (Y or N)? Y\n",
            "You are eligible to vote.\n"
          ]
        }
      ]
    },
    {
      "cell_type": "markdown",
      "source": [
        "#Section4"
      ],
      "metadata": {
        "id": "V3p22dxWSsRW"
      }
    },
    {
      "cell_type": "markdown",
      "source": [
        "##1.Random Module"
      ],
      "metadata": {
        "id": "JocUJ0eTSx_i"
      }
    },
    {
      "cell_type": "code",
      "source": [
        "import random\n",
        "\n",
        "randomInteger=random.randint(1,10)\n",
        "print(randomInteger)\n",
        "\n",
        "randomFloat=random.random()\n",
        "print(randomFloat)"
      ],
      "metadata": {
        "colab": {
          "base_uri": "https://localhost:8080/"
        },
        "id": "EiQ5oosLS6be",
        "outputId": "f03ccd26-20f9-4017-9b50-34663d3969de"
      },
      "execution_count": null,
      "outputs": [
        {
          "output_type": "stream",
          "name": "stdout",
          "text": [
            "8\n",
            "0.06297770263305513\n"
          ]
        }
      ]
    },
    {
      "cell_type": "code",
      "source": [
        "import random\n",
        "random_side=random.randint(0,1)\n",
        "\n",
        "if random_side==1:\n",
        "  print(\"Head\")\n",
        "\n",
        "else:\n",
        "  print(\"Tail\")"
      ],
      "metadata": {
        "colab": {
          "base_uri": "https://localhost:8080/"
        },
        "id": "G3IkWABldDr4",
        "outputId": "f6a687f9-8630-4d99-adaf-3fc279d9d97c"
      },
      "execution_count": null,
      "outputs": [
        {
          "output_type": "stream",
          "name": "stdout",
          "text": [
            "Tail\n"
          ]
        }
      ]
    },
    {
      "cell_type": "markdown",
      "source": [
        "##2.List"
      ],
      "metadata": {
        "id": "UUomKmW1vt34"
      }
    },
    {
      "cell_type": "markdown",
      "source": [
        "append and extend in list"
      ],
      "metadata": {
        "id": "Y9hjLsKon3KA"
      }
    },
    {
      "cell_type": "code",
      "source": [
        "student_name= [\"Justine\",\"Lailah\",\"Keagan\",\"Tobias\",\"Izabelle\",\"Cristal\",\"Ari\",\"Kelton\",\"Kinley\",\"Beckham\"]\n",
        "\n",
        "print(student_name[0])\n",
        "print(student_name[5])\n",
        "\n",
        "student_name.append(\"john\")\n",
        "student_name.extend([\"Rushabh\",\"virat\",\"Rohit\"])\n",
        "print(student_name)"
      ],
      "metadata": {
        "colab": {
          "base_uri": "https://localhost:8080/"
        },
        "id": "PcMMPzvnfswT",
        "outputId": "d0e9cdbc-e4ff-4437-e374-6d4c9f7fdb08"
      },
      "execution_count": null,
      "outputs": [
        {
          "output_type": "stream",
          "name": "stdout",
          "text": [
            "Justine\n",
            "Cristal\n",
            "['Justine', 'Lailah', 'Keagan', 'Tobias', 'Izabelle', 'Cristal', 'Ari', 'Kelton', 'Kinley', 'Beckham', 'john', 'Rushabh', 'virat', 'Rohit']\n"
          ]
        }
      ]
    },
    {
      "cell_type": "markdown",
      "source": [
        "merging two list"
      ],
      "metadata": {
        "id": "2cHmp1zhnz6S"
      }
    },
    {
      "cell_type": "code",
      "source": [
        "fruits = [\"apple\", \"banana\", \"orange\", \"grape\", \"kiwi\"]\n",
        "numbers = [1, 5, 10, 15, 20]\n",
        "\n",
        "list=[fruits,numbers]\n",
        "print(list)"
      ],
      "metadata": {
        "colab": {
          "base_uri": "https://localhost:8080/"
        },
        "id": "ZZ5n4_bOnAvC",
        "outputId": "fd9a25a6-bfea-49cc-e35c-7d52142e546e"
      },
      "execution_count": null,
      "outputs": [
        {
          "output_type": "stream",
          "name": "stdout",
          "text": [
            "[['apple', 'banana', 'orange', 'grape', 'kiwi'], [1, 5, 10, 15, 20]]\n"
          ]
        }
      ]
    },
    {
      "cell_type": "markdown",
      "source": [
        "Rock Paper Scissor"
      ],
      "metadata": {
        "id": "w3pOaVorpZel"
      }
    },
    {
      "cell_type": "code",
      "source": [
        "import random\n",
        "user_choice = int(input(\"What do you choose? Type 0 for Rock, 1 for Paper or 2 for Scissors.\\n\"))\n",
        "\n",
        "computer_choice = random.randint(0, 2)\n",
        "print(f\"Computer chose: {computer_choice}\")\n",
        "\n",
        "if user_choice >= 3 or user_choice < 0:\n",
        "  print(\"You typed an invalid number, you lose!\")\n",
        "elif user_choice == 0 and computer_choice == 2:\n",
        "  print(\"You win!\")\n",
        "elif computer_choice == 0 and user_choice == 2:\n",
        "  print(\"You lose\")\n",
        "elif computer_choice > user_choice:\n",
        "  print(\"You lose\")\n",
        "elif user_choice > computer_choice:\n",
        "  print(\"You win!\")\n",
        "elif computer_choice == user_choice:\n",
        "  print(\"It's a draw\")"
      ],
      "metadata": {
        "colab": {
          "base_uri": "https://localhost:8080/"
        },
        "id": "6AVJROWepYTl",
        "outputId": "2f626a5a-efb2-41ca-8ebb-7ba02dbf996c"
      },
      "execution_count": null,
      "outputs": [
        {
          "output_type": "stream",
          "name": "stdout",
          "text": [
            "What do you choose? Type 0 for Rock, 1 for Paper or 2 for Scissors.\n",
            "2\n",
            "Computer chose: 1\n",
            "You win!\n"
          ]
        }
      ]
    },
    {
      "cell_type": "markdown",
      "source": [
        "#Section5"
      ],
      "metadata": {
        "id": "J41q-LYxwDNh"
      }
    },
    {
      "cell_type": "markdown",
      "source": [
        "##1.Loops"
      ],
      "metadata": {
        "id": "LWRIYNdzwIEO"
      }
    },
    {
      "cell_type": "code",
      "source": [
        "fruits=[\"Apple\",\"Peach\",\"Guava\"]\n",
        "\n",
        "for fruit in fruits:\n",
        "  print (fruit)\n",
        "  print(fruit+\" pie\")\n",
        "\n"
      ],
      "metadata": {
        "colab": {
          "base_uri": "https://localhost:8080/"
        },
        "id": "_fZnNf-XEPWa",
        "outputId": "dc627004-0e70-44f2-8aa2-6bb9760d7a30"
      },
      "execution_count": null,
      "outputs": [
        {
          "output_type": "stream",
          "name": "stdout",
          "text": [
            "Apple\n",
            "Apple pie\n",
            "Peach\n",
            "Peach pie\n",
            "Guava\n",
            "Guava pie\n"
          ]
        }
      ]
    },
    {
      "cell_type": "markdown",
      "source": [
        "highest score"
      ],
      "metadata": {
        "id": "ETey9AuRR41O"
      }
    },
    {
      "cell_type": "code",
      "source": [
        "student_scores = input().split()\n",
        "for n in range(0, len(student_scores)):\n",
        "  student_scores[n] = int(student_scores[n])\n",
        "\n",
        "highest_score = 0\n",
        "for score in student_scores:\n",
        "  if score > highest_score:\n",
        "    highest_score = score\n",
        "\n",
        "print(f\"The highest score in the class is: {highest_score}\")"
      ],
      "metadata": {
        "colab": {
          "base_uri": "https://localhost:8080/"
        },
        "id": "fC_lvbg2R39N",
        "outputId": "dc5e657f-a686-4e30-f3fc-3f86c010025e"
      },
      "execution_count": null,
      "outputs": [
        {
          "output_type": "stream",
          "name": "stdout",
          "text": [
            "10 20 30 40 50\n",
            "The highest score in the class is: 50\n"
          ]
        }
      ]
    },
    {
      "cell_type": "markdown",
      "source": [
        "range in for loop"
      ],
      "metadata": {
        "id": "h08G8a7BS87c"
      }
    },
    {
      "cell_type": "code",
      "source": [
        "num = int(input(\"Enter the number: \"))\n",
        "\n",
        "# Generate and print the table\n",
        "for i in range(1, 11):\n",
        "    result = num * i\n",
        "    print(f\"{num} x {i} = {result}\")\n"
      ],
      "metadata": {
        "colab": {
          "base_uri": "https://localhost:8080/"
        },
        "id": "wU7XzTZzS_jB",
        "outputId": "fceb9e46-ea59-40d2-afc3-54c816b6737c"
      },
      "execution_count": null,
      "outputs": [
        {
          "output_type": "stream",
          "name": "stdout",
          "text": [
            "Enter the number: 5\n",
            "5 x 1 = 5\n",
            "5 x 2 = 10\n",
            "5 x 3 = 15\n",
            "5 x 4 = 20\n",
            "5 x 5 = 25\n",
            "5 x 6 = 30\n",
            "5 x 7 = 35\n",
            "5 x 8 = 40\n",
            "5 x 9 = 45\n",
            "5 x 10 = 50\n"
          ]
        }
      ]
    },
    {
      "cell_type": "markdown",
      "source": [
        "Fizz buzz code"
      ],
      "metadata": {
        "id": "BzCekg2xWnbX"
      }
    },
    {
      "cell_type": "code",
      "source": [
        "target = 100\n",
        "for number in range(1, target + 1):\n",
        "  if number % 3 == 0 and number % 5 == 0:\n",
        "    print(\"FizzBuzz\")\n",
        "  elif number % 3 == 0:\n",
        "    print(\"Fizz\")\n",
        "  elif number % 5 == 0:\n",
        "    print(\"Buzz\")\n",
        "  else:\n",
        "    print(number)"
      ],
      "metadata": {
        "colab": {
          "base_uri": "https://localhost:8080/"
        },
        "id": "peET3AlGWpao",
        "outputId": "13c47513-8a6f-4b48-825f-ecf6ee6b0e21"
      },
      "execution_count": null,
      "outputs": [
        {
          "output_type": "stream",
          "name": "stdout",
          "text": [
            "1\n",
            "2\n",
            "Fizz\n",
            "4\n",
            "Buzz\n",
            "Fizz\n",
            "7\n",
            "8\n",
            "Fizz\n",
            "Buzz\n",
            "11\n",
            "Fizz\n",
            "13\n",
            "14\n",
            "FizzBuzz\n",
            "16\n",
            "17\n",
            "Fizz\n",
            "19\n",
            "Buzz\n",
            "Fizz\n",
            "22\n",
            "23\n",
            "Fizz\n",
            "Buzz\n",
            "26\n",
            "Fizz\n",
            "28\n",
            "29\n",
            "FizzBuzz\n",
            "31\n",
            "32\n",
            "Fizz\n",
            "34\n",
            "Buzz\n",
            "Fizz\n",
            "37\n",
            "38\n",
            "Fizz\n",
            "Buzz\n",
            "41\n",
            "Fizz\n",
            "43\n",
            "44\n",
            "FizzBuzz\n",
            "46\n",
            "47\n",
            "Fizz\n",
            "49\n",
            "Buzz\n",
            "Fizz\n",
            "52\n",
            "53\n",
            "Fizz\n",
            "Buzz\n",
            "56\n",
            "Fizz\n",
            "58\n",
            "59\n",
            "FizzBuzz\n",
            "61\n",
            "62\n",
            "Fizz\n",
            "64\n",
            "Buzz\n",
            "Fizz\n",
            "67\n",
            "68\n",
            "Fizz\n",
            "Buzz\n",
            "71\n",
            "Fizz\n",
            "73\n",
            "74\n",
            "FizzBuzz\n",
            "76\n",
            "77\n",
            "Fizz\n",
            "79\n",
            "Buzz\n",
            "Fizz\n",
            "82\n",
            "83\n",
            "Fizz\n",
            "Buzz\n",
            "86\n",
            "Fizz\n",
            "88\n",
            "89\n",
            "FizzBuzz\n",
            "91\n",
            "92\n",
            "Fizz\n",
            "94\n",
            "Buzz\n",
            "Fizz\n",
            "97\n",
            "98\n",
            "Fizz\n",
            "Buzz\n"
          ]
        }
      ]
    },
    {
      "cell_type": "markdown",
      "source": [
        "#Section6"
      ],
      "metadata": {
        "id": "41YRoM9paGBX"
      }
    },
    {
      "cell_type": "markdown",
      "source": [
        "##1.Function"
      ],
      "metadata": {
        "id": "9i8ocV7RaKg3"
      }
    },
    {
      "cell_type": "code",
      "source": [
        "def add_numbers(a,b):\n",
        "    result = a + b\n",
        "    return result\n",
        "\n",
        "# Using the function\n",
        "x = int(input(\"x: \"))\n",
        "y = int(input(\"y: \"))\n",
        "sum_result = add_numbers(x, y)\n",
        "print(f\"The sum of {x} and {y} is {sum_result}\")\n"
      ],
      "metadata": {
        "colab": {
          "base_uri": "https://localhost:8080/"
        },
        "id": "1Mprd8hTy7fW",
        "outputId": "eb18df6a-84f3-4881-d1ad-0ff601a83602"
      },
      "execution_count": null,
      "outputs": [
        {
          "output_type": "stream",
          "name": "stdout",
          "text": [
            "x: 9\n",
            "y: 89\n",
            "The sum of 9 and 89 is 98\n"
          ]
        }
      ]
    },
    {
      "cell_type": "markdown",
      "source": [
        "##2.While Loop"
      ],
      "metadata": {
        "id": "FZ8I3Kvu1Bs6"
      }
    },
    {
      "cell_type": "code",
      "source": [
        "i=0\n",
        "\n",
        "while i<10:\n",
        "  i+=1\n",
        "  print(i)"
      ],
      "metadata": {
        "colab": {
          "base_uri": "https://localhost:8080/"
        },
        "id": "XULp-AZW1Ey_",
        "outputId": "60438987-c32d-4cae-93ce-6a24819f18ae"
      },
      "execution_count": null,
      "outputs": [
        {
          "output_type": "stream",
          "name": "stdout",
          "text": [
            "1\n",
            "2\n",
            "3\n",
            "4\n",
            "5\n",
            "6\n",
            "7\n",
            "8\n",
            "9\n",
            "10\n"
          ]
        }
      ]
    },
    {
      "cell_type": "markdown",
      "source": [
        "factorial"
      ],
      "metadata": {
        "id": "p-bacIfXdHT6"
      }
    },
    {
      "cell_type": "code",
      "source": [
        "num = int(input(\"Enter a number: \"))\n",
        "\n",
        "factorial = 1\n",
        "i = 1\n",
        "\n",
        "# Calculate the factorial using a while loop\n",
        "while i <= num:\n",
        "    factorial *= i\n",
        "    i += 1\n",
        "\n",
        "print(f\"The factorial of {num} is {factorial}\")\n"
      ],
      "metadata": {
        "colab": {
          "base_uri": "https://localhost:8080/"
        },
        "id": "Ss00-YAsdIn1",
        "outputId": "4397e87f-2fca-46b4-c56c-2b6e6bd07fa7"
      },
      "execution_count": null,
      "outputs": [
        {
          "output_type": "stream",
          "name": "stdout",
          "text": [
            "Enter a number: 5\n",
            "The factorial of 5 is 120\n"
          ]
        }
      ]
    },
    {
      "cell_type": "markdown",
      "source": [
        "#Section8"
      ],
      "metadata": {
        "id": "FrE4aIqAdWo3"
      }
    },
    {
      "cell_type": "markdown",
      "source": [
        "##1.Function with input"
      ],
      "metadata": {
        "id": "ULuvfXsPdZ4I"
      }
    },
    {
      "cell_type": "code",
      "source": [
        "def iname(name,age):\n",
        "  print(f\"your name is {name}\")\n",
        "  print(f\"your age is {age}\")\n",
        "\n",
        "iname(\"Samay\",25)"
      ],
      "metadata": {
        "id": "mqLh5uR-dcj2",
        "colab": {
          "base_uri": "https://localhost:8080/"
        },
        "outputId": "8190dd84-0ecf-4fd6-b53b-ed9733af9e54"
      },
      "execution_count": null,
      "outputs": [
        {
          "output_type": "stream",
          "name": "stdout",
          "text": [
            "your name is Samay\n",
            "your age is 25\n"
          ]
        }
      ]
    },
    {
      "cell_type": "markdown",
      "source": [
        "paint calculator"
      ],
      "metadata": {
        "id": "vE1xeUZC2NpC"
      }
    },
    {
      "cell_type": "code",
      "source": [
        "import math\n",
        "\n",
        "def paint_calc(height, width, cover):\n",
        "  num_cans = (height * width) / cover\n",
        "  round_up_cans = math.ceil(num_cans)\n",
        "  print(f\"You'll need {round_up_cans} cans of paint.\")\n",
        "\n",
        "# Your code above this line 👆\n",
        "test_h = int(input()) # Height of wall (m)\n",
        "test_w = int(input()) # Width of wall (m)\n",
        "coverage = 5\n",
        "paint_calc(height=test_h, width=test_w, cover=coverage)"
      ],
      "metadata": {
        "colab": {
          "base_uri": "https://localhost:8080/"
        },
        "id": "sYvygxWj2deB",
        "outputId": "97ebbe38-2b95-425b-c09a-e33c789c85ea"
      },
      "execution_count": null,
      "outputs": [
        {
          "output_type": "stream",
          "name": "stdout",
          "text": [
            "6\n",
            "7\n",
            "You'll need 9 cans of paint.\n"
          ]
        }
      ]
    },
    {
      "cell_type": "markdown",
      "source": [
        "#Section9"
      ],
      "metadata": {
        "id": "vjEcwaf2FbbH"
      }
    },
    {
      "cell_type": "markdown",
      "source": [
        "##Dictionary"
      ],
      "metadata": {
        "id": "dyOZNtZfKBaw"
      }
    },
    {
      "cell_type": "code",
      "source": [
        "# Create a dictionary with key-value pairs\n",
        "student = {\n",
        "    \"name\": \"John\",\n",
        "    \"age\": 25,\n",
        "    \"grade\": \"A\",\n",
        "    \"courses\": [\"Math\", \"History\", \"Science\"]\n",
        "}\n",
        "\n",
        "# Print the entire dictionary\n",
        "print(\"Student Information:\")\n",
        "print(student)\n"
      ],
      "metadata": {
        "colab": {
          "base_uri": "https://localhost:8080/"
        },
        "id": "kcWscX-vFgK-",
        "outputId": "bc9466c8-3fb8-4630-8295-6c1d7a46e107"
      },
      "execution_count": null,
      "outputs": [
        {
          "output_type": "stream",
          "name": "stdout",
          "text": [
            "Student Information:\n",
            "{'name': 'John', 'age': 25, 'grade': 'A', 'courses': ['Math', 'History', 'Science']}\n"
          ]
        }
      ]
    },
    {
      "cell_type": "markdown",
      "source": [
        "Grading program\n"
      ],
      "metadata": {
        "id": "bZb5aa1RKrO3"
      }
    },
    {
      "cell_type": "code",
      "source": [
        "student_scores = {\n",
        "  \"Harry\": 81,\n",
        "  \"Ron\": 78,\n",
        "  \"Hermione\": 99,\n",
        "  \"Draco\": 74,\n",
        "  \"Neville\": 62,\n",
        "}\n",
        "\n",
        "# TODO-1: Create an empty dictionary called student_grades.\n",
        "student_grades = {}\n",
        "\n",
        "# TODO-2: Covert scores into grades.\n",
        "for student in student_scores:\n",
        "  score = student_scores[student]\n",
        "  if score > 90:\n",
        "    student_grades[student] = \"Outstanding\"\n",
        "  elif score > 80:\n",
        "    student_grades[student] = \"Exceeds Expectations\"\n",
        "  elif score > 70:\n",
        "    student_grades[student] = \"Acceptable\"\n",
        "  else:\n",
        "    student_grades[student] = \"Fail\"\n",
        "\n",
        "print(student_grades)"
      ],
      "metadata": {
        "colab": {
          "base_uri": "https://localhost:8080/"
        },
        "id": "1iXfpysrKv0k",
        "outputId": "1b7f233f-988d-4ffe-e7ca-8f513dc0767f"
      },
      "execution_count": null,
      "outputs": [
        {
          "output_type": "stream",
          "name": "stdout",
          "text": [
            "{'Harry': 'Exceeds Expectations', 'Ron': 'Acceptable', 'Hermione': 'Outstanding', 'Draco': 'Acceptable', 'Neville': 'Fail'}\n"
          ]
        }
      ]
    },
    {
      "cell_type": "code",
      "source": [
        "#Nesting\n",
        "\n",
        "capitals = {\n",
        "\n",
        "\"France\": \"Paris\", \"Germany\": \"Berlin\",\n",
        "\n",
        "}\n",
        "\n",
        "#Nesting a List in a Dictionary\n",
        "\n",
        "travel_log= {\n",
        "\n",
        "\"France\": [\"Paris\", \"Lille\", \"Dijon\"], \"Germany\": [\"Berlin\", \"Hamburg\", \"Stuttgart\"],\n",
        "}\n",
        "#Nesting Dictionary in a List\n",
        "\n",
        "travel_log = [\n",
        "\n",
        "{\n",
        "\n",
        "\"country\": \"France\",\n",
        "\n",
        "\"cities_visited\": [\"Paris\", \"Lille\", \"Dijon\"],\n",
        "\n",
        "\"total_visits\": 12\n",
        "\n",
        "},\n",
        " {\n",
        "    \"country\": \"Germany\",\n",
        "    \"cities_visited\": [\"Berlin\", \"Hamburg\", \"Stuttgart\"],\n",
        "    \"total_visits\": 5\n",
        "\n",
        "},\n",
        "]"
      ],
      "metadata": {
        "id": "XS1KmFg1Mc_C"
      },
      "execution_count": null,
      "outputs": []
    },
    {
      "cell_type": "markdown",
      "source": [
        "#Section10"
      ],
      "metadata": {
        "id": "KuygFbo8P6Bw"
      }
    },
    {
      "cell_type": "markdown",
      "source": [
        "##Function with output"
      ],
      "metadata": {
        "id": "ZWSmwZnpP-AJ"
      }
    },
    {
      "cell_type": "code",
      "source": [
        "#Functions with Outputs\n",
        "\n",
        "def format_name(f_name, l_name):\n",
        "  formated_f_name = f_name.title()\n",
        "  formated_l_name = l_name.title()\n",
        "  print(f\"{formated_f_name} {formated_l_name}\")\n",
        "\n",
        "format_name(\"ANGELA\", \"YU\")"
      ],
      "metadata": {
        "colab": {
          "base_uri": "https://localhost:8080/"
        },
        "id": "4XyaIBXIQDma",
        "outputId": "2a669388-2076-416c-d90c-0bae7447c862"
      },
      "execution_count": null,
      "outputs": [
        {
          "output_type": "stream",
          "name": "stdout",
          "text": [
            "Angela Yu\n"
          ]
        }
      ]
    },
    {
      "cell_type": "markdown",
      "source": [
        "days in a month"
      ],
      "metadata": {
        "id": "hbhP9RH0R8LX"
      }
    },
    {
      "cell_type": "code",
      "source": [
        "def is_leap(year):\n",
        "  if year % 4 == 0:\n",
        "    if year % 100 == 0:\n",
        "      if year % 400 == 0:\n",
        "        print(\"Leap year\")\n",
        "      else:\n",
        "        print(\"Not leap year\")\n",
        "    else:\n",
        "      print(\"Leap year\")\n",
        "  else:\n",
        "    print(\"Not leap year\")\n",
        "\n",
        "\n",
        "def days_in_month(year, month):\n",
        "  month_days = [31, 28, 31, 30, 31, 30, 31, 31, 30, 31, 30, 31]\n",
        "\n",
        "  if month == 2 and is_leap(year):\n",
        "    return 29\n",
        "  else:\n",
        "    return month_days[month - 1]\n",
        "\n",
        "# Your code above\n",
        "year = int(input(\"enter year:\")) # Enter a year\n",
        "month = int(input(\"enter month\")) # Enter a month\n",
        "days = days_in_month(year, month)\n",
        "print(days)"
      ],
      "metadata": {
        "colab": {
          "base_uri": "https://localhost:8080/"
        },
        "id": "AczEOhTER-59",
        "outputId": "d6ec02f4-3651-4af1-b053-496491e55087"
      },
      "execution_count": null,
      "outputs": [
        {
          "output_type": "stream",
          "name": "stdout",
          "text": [
            "enter year:23\n",
            "enter month5\n",
            "31\n"
          ]
        }
      ]
    },
    {
      "cell_type": "markdown",
      "source": [
        "Calculator"
      ],
      "metadata": {
        "id": "JNNbkfzwVkZt"
      }
    },
    {
      "cell_type": "code",
      "source": [
        "#Add\n",
        "\n",
        "def add(n1, n2):\n",
        "  return n1 + n2\n",
        "\n",
        "#Subtract\n",
        "\n",
        "def subtract (n1, n2):\n",
        "  return n1 - n2\n",
        "\n",
        "#Multiply\n",
        "\n",
        "def multiply(n1, n2):\n",
        "  return n1 * n2\n",
        "\n",
        "#Divide\n",
        "\n",
        "def divide (n1, n2):\n",
        "  return n1 / n2\n",
        "\n",
        "operation= {\n",
        "    \"+\":add,\n",
        "    \"-\":subtract,\n",
        "    \"*\":multiply,\n",
        "    \"/\":divide\n",
        "    }\n",
        "\n",
        "num1=int(input(\"Enter the 1st number\"))\n",
        "num2=int(input(\"Enter the 2nd number\"))\n",
        "for symbol in operation:\n",
        "  print(symbol)\n",
        "\n",
        "operation_symbol=input(\"Pick an operation from the line above: \")\n",
        "\n",
        "calculation_function=operation[operation_symbol]\n",
        "answer=calculation_function(num1,num2)\n",
        "print(f\"{num1} {operation_symbol} {num2} ={answer}\")\n"
      ],
      "metadata": {
        "colab": {
          "base_uri": "https://localhost:8080/"
        },
        "id": "krHjF0AhVjPQ",
        "outputId": "a219b83f-0875-4576-db3c-8365c45fb144"
      },
      "execution_count": null,
      "outputs": [
        {
          "output_type": "stream",
          "name": "stdout",
          "text": [
            "Enter the 1st number13\n",
            "Enter the 2nd number12\n",
            "+\n",
            "-\n",
            "*\n",
            "/\n",
            "Pick an operation from the line above: *\n",
            "13 * 12 =156\n"
          ]
        }
      ]
    },
    {
      "cell_type": "markdown",
      "source": [
        "#Section12"
      ],
      "metadata": {
        "id": "9hf9r_kN0ddC"
      }
    },
    {
      "cell_type": "markdown",
      "source": [
        "##Global and local scope"
      ],
      "metadata": {
        "id": "vcII9FeS0nQ6"
      }
    },
    {
      "cell_type": "code",
      "source": [
        "player_health=10\n",
        "\n",
        "def drink_portion():\n",
        "  portion_strength=2\n",
        "  print(player_health)\n",
        "\n",
        "drink_portion()\n",
        "print(player_health)\n",
        "\n",
        "#print(portion_strength)"
      ],
      "metadata": {
        "colab": {
          "base_uri": "https://localhost:8080/"
        },
        "id": "MyUVx3Ad0re4",
        "outputId": "38b85a8b-49df-44c5-afb3-6492a6446cbc"
      },
      "execution_count": null,
      "outputs": [
        {
          "output_type": "stream",
          "name": "stdout",
          "text": [
            "10\n",
            "10\n"
          ]
        }
      ]
    },
    {
      "cell_type": "markdown",
      "source": [
        "Number guessing game"
      ],
      "metadata": {
        "id": "meI4S5Z8Bk80"
      }
    },
    {
      "cell_type": "code",
      "source": [
        "import random\n",
        "\n",
        "EASY_LEVEL_TURNS = 10\n",
        "\n",
        "HARD_LEVEL_TURNS = 5\n",
        "\n",
        "\n",
        "\n",
        "#Function to check user's guess against actual answer.\n",
        "\n",
        "def check_answer(guess, answer, turns):\n",
        "\n",
        "  \"\"\"checks answer against guess. Returns the number of turns remaining.\"\"\"\n",
        "\n",
        "  if guess > answer:\n",
        "\n",
        "    print(\"Too high.\")\n",
        "\n",
        "    return turns - 1\n",
        "\n",
        "  elif guess < answer:\n",
        "\n",
        "    print(\"Too low.\")\n",
        "\n",
        "    return turns - 1\n",
        "\n",
        "  else:\n",
        "\n",
        "    print(f\"You got it! The answer was {answer}.\")\n",
        "\n",
        "\n",
        "\n",
        "#Make function to set difficulty.\n",
        "\n",
        "def set_difficulty():\n",
        "\n",
        "  level = input(\"Choose a difficulty. Type 'easy' or 'hard': \")\n",
        "\n",
        "  if level == \"easy\":\n",
        "\n",
        "    return EASY_LEVEL_TURNS\n",
        "\n",
        "  else:\n",
        "\n",
        "    return HARD_LEVEL_TURNS\n",
        "\n",
        "\n",
        "\n",
        "def game():\n",
        "\n",
        "\n",
        "\n",
        "  #Choosing a random number between 1 and 100.\n",
        "\n",
        "  print(\"Welcome to the Number Guessing Game!\")\n",
        "\n",
        "  print(\"I'm thinking of a number between 1 and 100.\")\n",
        "\n",
        "  answer = random.randint(1, 100)\n",
        "\n",
        "  print(f\"Pssst, the correct answer is {answer}\")\n",
        "\n",
        "\n",
        "\n",
        "  turns = set_difficulty()\n",
        "\n",
        "  #Repeat the guessing functionality if they get it wrong.\n",
        "\n",
        "  guess = 0\n",
        "\n",
        "  while guess != answer:\n",
        "\n",
        "    print(f\"You have {turns} attempts remaining to guess the number.\")\n",
        "\n",
        "\n",
        "\n",
        "    #Let the user guess a number.\n",
        "\n",
        "    guess = int(input(\"Make a guess: \"))\n",
        "\n",
        "\n",
        "\n",
        "    #Track the number of turns and reduce by 1 if they get it wrong.\n",
        "\n",
        "    turns = check_answer(guess, answer, turns)\n",
        "\n",
        "    if turns == 0:\n",
        "\n",
        "      print(\"You've run out of guesses, you lose.\")\n",
        "\n",
        "      return\n",
        "\n",
        "    elif guess != answer:\n",
        "\n",
        "      print(\"Guess again.\")\n",
        "\n",
        "\n",
        "\n",
        "\n",
        "\n",
        "game()"
      ],
      "metadata": {
        "colab": {
          "base_uri": "https://localhost:8080/"
        },
        "id": "Qiv8RQWhBjGK",
        "outputId": "727eef49-292f-4854-af22-9ac0c7ba76e1"
      },
      "execution_count": null,
      "outputs": [
        {
          "output_type": "stream",
          "name": "stdout",
          "text": [
            "Welcome to the Number Guessing Game!\n",
            "I'm thinking of a number between 1 and 100.\n",
            "Pssst, the correct answer is 91\n",
            "Choose a difficulty. Type 'easy' or 'hard': easy\n",
            "You have 10 attempts remaining to guess the number.\n",
            "Make a guess: 20\n",
            "Too low.\n",
            "Guess again.\n",
            "You have 9 attempts remaining to guess the number.\n",
            "Make a guess: 40\n",
            "Too low.\n",
            "Guess again.\n",
            "You have 8 attempts remaining to guess the number.\n",
            "Make a guess: 50\n",
            "Too low.\n",
            "Guess again.\n",
            "You have 7 attempts remaining to guess the number.\n",
            "Make a guess: 70\n",
            "Too low.\n",
            "Guess again.\n",
            "You have 6 attempts remaining to guess the number.\n",
            "Make a guess: 80\n",
            "Too low.\n",
            "Guess again.\n",
            "You have 5 attempts remaining to guess the number.\n",
            "Make a guess: 90\n",
            "Too low.\n",
            "Guess again.\n",
            "You have 4 attempts remaining to guess the number.\n",
            "Make a guess: 100\n",
            "Too high.\n",
            "Guess again.\n",
            "You have 3 attempts remaining to guess the number.\n",
            "Make a guess: 94\n",
            "Too high.\n",
            "Guess again.\n",
            "You have 2 attempts remaining to guess the number.\n",
            "Make a guess: 92\n",
            "Too high.\n",
            "Guess again.\n",
            "You have 1 attempts remaining to guess the number.\n",
            "Make a guess: 91\n",
            "You got it! The answer was 91.\n"
          ]
        }
      ]
    },
    {
      "cell_type": "markdown",
      "source": [
        "# New Section"
      ],
      "metadata": {
        "id": "eB1aWig24Xr7"
      }
    },
    {
      "cell_type": "markdown",
      "source": [
        "cofee machine code"
      ],
      "metadata": {
        "id": "K8SzL_jx4bJr"
      }
    },
    {
      "cell_type": "code",
      "source": [
        "# Define initial ingredients\n",
        "water = 400\n",
        "milk = 540\n",
        "coffee_beans = 120\n",
        "disposable_cups = 9\n",
        "money = 550\n",
        "\n",
        "# Function to display the current status of the coffee machine\n",
        "def display_status():\n",
        "    print(\"\\nCoffee Machine Status:\")\n",
        "    print(f\"Water: {water} ml\")\n",
        "    print(f\"Milk: {milk} ml\")\n",
        "    print(f\"Coffee Beans: {coffee_beans} grams\")\n",
        "    print(f\"Disposable Cups: {disposable_cups}\")\n",
        "    print(f\"Money: ${money}\\n\")\n",
        "\n",
        "# Function to serve a cup of coffee\n",
        "def serve_coffee(water_needed, milk_needed, coffee_beans_needed, cost):\n",
        "    #nonlocal water, milk, coffee_beans, disposable_cups, money\n",
        "    if water >= water_needed and milk >= milk_needed and coffee_beans >= coffee_beans_needed and disposable_cups >= 1:\n",
        "        print(\"Preparing your coffee. Enjoy!\")\n",
        "        water -= water_needed\n",
        "        milk -= milk_needed\n",
        "        coffee_beans -= coffee_beans_needed\n",
        "        disposable_cups -= 1\n",
        "        money += cost\n",
        "    else:\n",
        "        if water < water_needed:\n",
        "            print(\"Sorry, not enough water.\")\n",
        "        elif milk < milk_needed:\n",
        "            print(\"Sorry, not enough milk.\")\n",
        "        elif coffee_beans < coffee_beans_needed:\n",
        "            print(\"Sorry, not enough coffee beans.\")\n",
        "        else:\n",
        "            print(\"Sorry, not enough disposable cups.\")\n",
        "\n",
        "\n",
        "# Main program loop\n",
        "while True:\n",
        "    action = input(\"What would you like? (buy, fill, take, remaining, exit): \").lower()\n",
        "\n",
        "    if action == \"buy\":\n",
        "        coffee_type = input(\"What do you want to buy? (1 - Espresso, 2 - Latte, 3 - Cappuccino, back - Main menu): \").lower()\n",
        "        if coffee_type == \"1\":\n",
        "            serve_coffee(250, 0, 16, 4)\n",
        "        elif coffee_type == \"2\":\n",
        "            serve_coffee(350, 75, 20, 7)\n",
        "        elif coffee_type == \"3\":\n",
        "            serve_coffee(200, 100, 12, 6)\n",
        "        elif coffee_type == \"back\":\n",
        "            continue\n",
        "        else:\n",
        "            print(\"Invalid choice.\")\n",
        "\n",
        "    elif action == \"fill\":\n",
        "        water += int(input(\"How many ml of water do you want to add? \"))\n",
        "        milk += int(input(\"How many ml of milk do you want to add? \"))\n",
        "        coffee_beans += int(input(\"How many grams of coffee beans do you want to add? \"))\n",
        "        disposable_cups += int(input(\"How many disposable cups do you want to add? \"))\n",
        "\n",
        "    elif action == \"take\":\n",
        "        print(f\"Here is ${money}\")\n",
        "        money = 0\n",
        "\n",
        "    elif action == \"remaining\":\n",
        "        display_status()\n",
        "\n",
        "    elif action == \"exit\":\n",
        "        break\n",
        "\n",
        "    else:\n",
        "        print(\"Invalid action. Please try again.\")\n",
        "\n",
        "\n"
      ],
      "metadata": {
        "colab": {
          "base_uri": "https://localhost:8080/"
        },
        "id": "1PgWjDVP4dmM",
        "outputId": "4fd96922-1634-41e2-bb23-9414f74e431d"
      },
      "execution_count": null,
      "outputs": [
        {
          "name": "stdout",
          "output_type": "stream",
          "text": [
            "What would you like? (buy, fill, take, remaining, exit): fill\n",
            "How many ml of water do you want to add? 10\n",
            "How many ml of milk do you want to add? 20\n",
            "How many grams of coffee beans do you want to add? 5\n",
            "How many disposable cups do you want to add? 1\n",
            "What would you like? (buy, fill, take, remaining, exit): exit\n"
          ]
        }
      ]
    },
    {
      "cell_type": "markdown",
      "source": [
        "Inheritance"
      ],
      "metadata": {
        "id": "cG0k3ZsN_wjN"
      }
    },
    {
      "cell_type": "code",
      "source": [
        "class Animal:\n",
        "    def __init__(self):\n",
        "        self.num_eyes = 2\n",
        "\n",
        "    def breathe(self):\n",
        "        print(\"Inhale, exhale.\")\n",
        "\n",
        "class Fish(Animal):\n",
        "    def __init__(self):\n",
        "        super().__init__()\n",
        "\n",
        "    def breathe(self):\n",
        "        super().breathe()\n",
        "        print(\"doing this underwater.\")\n",
        "\n",
        "    def swim(self):\n",
        "        print(\"moving in water.\")\n",
        "\n",
        "nemo = Fish()\n",
        "nemo.breathe()"
      ],
      "metadata": {
        "colab": {
          "base_uri": "https://localhost:8080/"
        },
        "id": "HtCG-w-x_ixY",
        "outputId": "e8daa7fb-ec42-4a2b-b583-ff32b4b5a7d2"
      },
      "execution_count": null,
      "outputs": [
        {
          "output_type": "stream",
          "name": "stdout",
          "text": [
            "Inhale, exhale.\n",
            "doing this underwater.\n"
          ]
        }
      ]
    },
    {
      "cell_type": "markdown",
      "source": [
        "List Comprehension"
      ],
      "metadata": {
        "id": "fRdSR9FhW3Z1"
      }
    },
    {
      "cell_type": "markdown",
      "source": [
        "Squaring numbers"
      ],
      "metadata": {
        "id": "u8LvQ7OyZnlj"
      }
    },
    {
      "cell_type": "code",
      "source": [
        "numbers = [1, 1, 2, 3, 5, 8, 13, 21, 34, 55]\n",
        "\n",
        "# Your code below 👇\n",
        "squared_numbers = [num * num for num in numbers]\n",
        "# Your code above 👆\n",
        "\n",
        "print(squared_numbers)"
      ],
      "metadata": {
        "colab": {
          "base_uri": "https://localhost:8080/"
        },
        "id": "-mJE0TsCW0qo",
        "outputId": "7a8cb1c2-81e7-44e2-e809-f8d433c5e93a"
      },
      "execution_count": null,
      "outputs": [
        {
          "output_type": "stream",
          "name": "stdout",
          "text": [
            "[1, 1, 4, 9, 25, 64, 169, 441, 1156, 3025]\n"
          ]
        }
      ]
    },
    {
      "cell_type": "markdown",
      "source": [
        "filtering even numbers from list"
      ],
      "metadata": {
        "id": "O33sGeJWZqQt"
      }
    },
    {
      "cell_type": "code",
      "source": [
        "list_of_strings = input().split(' ')\n",
        "\n",
        "# list comprehension to convert strings to integers\n",
        "numbers = [int(x) for x in list_of_strings]\n",
        "\n",
        "# list comprehension to filter on even numbers\n",
        "result = [num for num in numbers if num%2==0]\n",
        "\n",
        "print(result)"
      ],
      "metadata": {
        "colab": {
          "base_uri": "https://localhost:8080/"
        },
        "id": "PFi4ZtsUZmRX",
        "outputId": "bf885d7d-1499-4a28-d5fc-44da5cf98ba5"
      },
      "execution_count": null,
      "outputs": [
        {
          "output_type": "stream",
          "name": "stdout",
          "text": [
            "2 3 4 5 6 7 8 9 0\n",
            "[2, 4, 6, 8, 0]\n"
          ]
        }
      ]
    },
    {
      "cell_type": "markdown",
      "source": [
        "Dictionary Comprehension"
      ],
      "metadata": {
        "id": "H9iBteLobdia"
      }
    },
    {
      "cell_type": "code",
      "source": [
        "sentence = input()\n",
        "\n",
        "# Using dictionary comprehension\n",
        "result = {word:len(word) for word in sentence.split()}\n",
        "\n",
        "print(result)"
      ],
      "metadata": {
        "colab": {
          "base_uri": "https://localhost:8080/"
        },
        "id": "beGS471EbkWa",
        "outputId": "e94816e7-da34-4968-de0e-8f0c6a71d299"
      },
      "execution_count": null,
      "outputs": [
        {
          "output_type": "stream",
          "name": "stdout",
          "text": [
            "Hey there ! What are you doing ?\n",
            "{'Hey': 3, 'there': 5, '!': 1, 'What': 4, 'are': 3, 'you': 3, 'doing': 5, '?': 1}\n"
          ]
        }
      ]
    },
    {
      "cell_type": "code",
      "source": [
        "# eval() converts correctly formatted string to dict\n",
        "weather_c = eval(input())\n",
        "\n",
        "# dictionary comprehension\n",
        "weather_f = {day:temp * 9/5 + 32 for (day, temp) in weather_c.items()} #convert C to F.\n",
        "\n",
        "print(weather_f)"
      ],
      "metadata": {
        "colab": {
          "base_uri": "https://localhost:8080/"
        },
        "id": "5tNwP2s5d5gh",
        "outputId": "77ab31fc-80e4-44eb-81d2-bc3bcead6293"
      },
      "execution_count": null,
      "outputs": [
        {
          "output_type": "stream",
          "name": "stdout",
          "text": [
            "{ \"monday\":30,\"tuesday\":34}\n",
            "{'monday': 86.0, 'tuesday': 93.2}\n"
          ]
        }
      ]
    },
    {
      "cell_type": "code",
      "source": [
        "Iterate over dictionary"
      ],
      "metadata": {
        "id": "mU_2eAQegB17"
      },
      "execution_count": null,
      "outputs": []
    },
    {
      "cell_type": "code",
      "source": [
        "#For Loop\n",
        "numbers = [1, 2, 3]\n",
        "new_list = []\n",
        "for n in numbers:\n",
        "    add_1 = n + 1\n",
        "    new_list.append(add_1)\n",
        "\n",
        "\n",
        "\n",
        "#List Comprehension\n",
        "new_list = [n + 1 for n in numbers]\n",
        "\n",
        "\n",
        "\n",
        "#String as List\n",
        "name = \"Angela\"\n",
        "letters_list = [letter for letter in name]\n",
        "\n",
        "\n",
        "\n",
        "#Range as List\n",
        "range_list = [n * 2 for n in range(1, 5)]\n",
        "\n",
        "\n",
        "\n",
        "#Conditional List Comprenhension\n",
        "names = [\"Alex\", \"Beth\", \"Caroline\", \"Dave\", \"Elanor\", \"Freddie\"]\n",
        "short_names = [name for name in names if len(name) < 5]\n",
        "\n",
        "\n",
        "\n",
        "upper_case_names = [name.upper() for name in names if len(name) > 4]\n",
        "\n",
        "\n",
        "\n",
        "#Dictionary Comprehension\n",
        "import random\n",
        "student_grades = {name: random.randint(1, 100) for name in names}\n",
        "print(student_grades)\n",
        "\n",
        "\n",
        "\n",
        "passed_students = {\n",
        "    student: grade\n",
        "    for (student, grade) in student_grades.items() if grade >= 60\n",
        "}\n",
        "print(passed_students)\n",
        "\n",
        "\n"
      ],
      "metadata": {
        "colab": {
          "base_uri": "https://localhost:8080/"
        },
        "id": "krBKQfnfgFy_",
        "outputId": "7fd2e44c-2475-4896-c4e1-65e0da8926a1"
      },
      "execution_count": null,
      "outputs": [
        {
          "output_type": "stream",
          "name": "stdout",
          "text": [
            "{'Alex': 47, 'Beth': 84, 'Caroline': 2, 'Dave': 10, 'Elanor': 47, 'Freddie': 22}\n",
            "{'Beth': 84}\n"
          ]
        }
      ]
    },
    {
      "cell_type": "markdown",
      "source": [
        "unlimited argument"
      ],
      "metadata": {
        "id": "cNXc3_yzHnH8"
      }
    },
    {
      "cell_type": "code",
      "source": [
        "def add(*args):\n",
        "  sum=0\n",
        "  for n in args:\n",
        "    sum += n\n",
        "  return sum\n",
        "\n",
        "print(\"the sum is\",add(4,5,6,7,8,9))"
      ],
      "metadata": {
        "colab": {
          "base_uri": "https://localhost:8080/"
        },
        "id": "Y8njLoSHHWqI",
        "outputId": "2921d6aa-08e7-4792-b0af-fecdb4ff9704"
      },
      "execution_count": null,
      "outputs": [
        {
          "output_type": "stream",
          "name": "stdout",
          "text": [
            "the sum is 39\n"
          ]
        }
      ]
    },
    {
      "cell_type": "markdown",
      "source": [
        "\n",
        "\n",
        "```\n",
        "# This is formatted as code\n",
        "```\n",
        "\n",
        "# Day8"
      ],
      "metadata": {
        "id": "6-LlGT5iTbkD"
      }
    },
    {
      "cell_type": "markdown",
      "source": [
        "##Exception handling"
      ],
      "metadata": {
        "id": "3P5yIsXuVH6a"
      }
    },
    {
      "cell_type": "code",
      "source": [
        "#Exception Handling\n",
        "\n",
        "try:\n",
        "    file = open(\"a_file.txt\")\n",
        "    a_dictionary = {\"key\": \"value\"}\n",
        "    print(a_dictionary[\"key\"])\n",
        "except FileNotFoundError:\n",
        "    file = open(\"a_file.txt\", \"w\")\n",
        "    file.write(\"Something\")\n",
        "except KeyError as error_message:\n",
        "    print(f\"The key {error_message} does not exist.\")\n",
        "else:\n",
        "    content = file.read()\n",
        "    print(content)\n",
        "finally:\n",
        "  file.close()"
      ],
      "metadata": {
        "id": "H_kQk9M_VMHL",
        "outputId": "f0ba83f6-e588-4cf5-d602-25928509925f",
        "colab": {
          "base_uri": "https://localhost:8080/"
        }
      },
      "execution_count": 9,
      "outputs": [
        {
          "output_type": "stream",
          "name": "stdout",
          "text": [
            "value\n",
            "Something\n"
          ]
        }
      ]
    },
    {
      "cell_type": "code",
      "source": [
        "#BMI Example\n",
        "\n",
        "height = float(input(\"Height: \"))\n",
        "weight = int(input(\"Weight: \"))\n",
        "\n",
        "if height > 3:\n",
        "    raise ValueError(\"Human Height should not be over 3 meters.\")\n",
        "\n",
        "bmi = weight / height ** 2\n",
        "print(bmi)\n"
      ],
      "metadata": {
        "colab": {
          "base_uri": "https://localhost:8080/",
          "height": 280
        },
        "id": "zvHd_Y3qXblK",
        "outputId": "2d499a2d-bf4b-4558-dc28-3c4ccfdaf8c6"
      },
      "execution_count": 10,
      "outputs": [
        {
          "name": "stdout",
          "output_type": "stream",
          "text": [
            "Height: 4\n",
            "Weight: 78\n"
          ]
        },
        {
          "output_type": "error",
          "ename": "ValueError",
          "evalue": "ignored",
          "traceback": [
            "\u001b[0;31m---------------------------------------------------------------------------\u001b[0m",
            "\u001b[0;31mValueError\u001b[0m                                Traceback (most recent call last)",
            "\u001b[0;32m<ipython-input-10-f114ea8cb812>\u001b[0m in \u001b[0;36m<cell line: 6>\u001b[0;34m()\u001b[0m\n\u001b[1;32m      5\u001b[0m \u001b[0;34m\u001b[0m\u001b[0m\n\u001b[1;32m      6\u001b[0m \u001b[0;32mif\u001b[0m \u001b[0mheight\u001b[0m \u001b[0;34m>\u001b[0m \u001b[0;36m3\u001b[0m\u001b[0;34m:\u001b[0m\u001b[0;34m\u001b[0m\u001b[0;34m\u001b[0m\u001b[0m\n\u001b[0;32m----> 7\u001b[0;31m     \u001b[0;32mraise\u001b[0m \u001b[0mValueError\u001b[0m\u001b[0;34m(\u001b[0m\u001b[0;34m\"Human Height should not be over 3 meters.\"\u001b[0m\u001b[0;34m)\u001b[0m\u001b[0;34m\u001b[0m\u001b[0;34m\u001b[0m\u001b[0m\n\u001b[0m\u001b[1;32m      8\u001b[0m \u001b[0;34m\u001b[0m\u001b[0m\n\u001b[1;32m      9\u001b[0m \u001b[0mbmi\u001b[0m \u001b[0;34m=\u001b[0m \u001b[0mweight\u001b[0m \u001b[0;34m/\u001b[0m \u001b[0mheight\u001b[0m \u001b[0;34m**\u001b[0m \u001b[0;36m2\u001b[0m\u001b[0;34m\u001b[0m\u001b[0;34m\u001b[0m\u001b[0m\n",
            "\u001b[0;31mValueError\u001b[0m: Human Height should not be over 3 meters."
          ]
        }
      ]
    },
    {
      "cell_type": "markdown",
      "source": [
        "Index Error Handling"
      ],
      "metadata": {
        "id": "0wgqkXLdYH-7"
      }
    },
    {
      "cell_type": "code",
      "source": [
        "fruits = eval(input())\n",
        "\n",
        "# Catch the exception and make sure the code runs without crashing.\n",
        "def make_pie():\n",
        "  try:\n",
        "    fruit = findexruits[index]\n",
        "  except IndexError:\n",
        "    print(\"Fruit pie\")\n",
        "  else:\n",
        "    print(fruit + \" pie\")\n",
        "\n",
        "make_pie(4) # Raises IndexError on list with less than 5 items"
      ],
      "metadata": {
        "colab": {
          "base_uri": "https://localhost:8080/"
        },
        "id": "CwGbeRT8YMn0",
        "outputId": "5b59b736-0f77-4a97-9bf5-09dac3e5237e"
      },
      "execution_count": 14,
      "outputs": [
        {
          "output_type": "stream",
          "name": "stdout",
          "text": [
            "[\"banana\",\"apple\"]\n",
            "Fruit pie\n"
          ]
        }
      ]
    },
    {
      "cell_type": "code",
      "source": [
        "facebook_posts = eval(input())\n",
        "\n",
        "total_likes = 0\n",
        "# Catching the KeyError exception in the dictionary\n",
        "for post in facebook_posts:\n",
        "  try:\n",
        "    total_likes = total_likes + post['Likes']\n",
        "  except KeyError:\n",
        "    pass\n",
        "\n",
        "print(total_likes)"
      ],
      "metadata": {
        "colab": {
          "base_uri": "https://localhost:8080/"
        },
        "id": "xHGXkfk2ZYrN",
        "outputId": "2a03a8eb-d399-4c80-c9e0-cf9578dbae47"
      },
      "execution_count": 18,
      "outputs": [
        {
          "output_type": "stream",
          "name": "stdout",
          "text": [
            "[{'Likes': 21, 'Comments': 2}, {'Likes': 13, 'Comments': 2, 'Shares': 1}, {'Likes': 33, 'Comments': 8, 'Shares': 3}, {'Comments': 4, 'Shares': 2},{'Comments': 1, 'Shares': 1}, {'Likes': 19, 'Comments': 3}]\n",
            "86\n"
          ]
        }
      ]
    },
    {
      "cell_type": "markdown",
      "source": [
        "##Type Hint"
      ],
      "metadata": {
        "id": "eNwnvpfDP-pp"
      }
    },
    {
      "cell_type": "code",
      "source": [
        "#age: int\n",
        "#name: str\n",
        "#height: float\n",
        "#is_human: bool\n",
        "\n",
        "\n",
        "def police_check(age: int) -> bool:\n",
        "    if age > 18:\n",
        "        can_drive = True\n",
        "    else:\n",
        "        can_drive = False\n",
        "    return can_drive\n",
        "\n",
        "\n",
        "if police_check(12):\n",
        "    print(\"You may pass\")\n",
        "else:\n",
        "    print(\"Pay a fine.\")\n"
      ],
      "metadata": {
        "colab": {
          "base_uri": "https://localhost:8080/"
        },
        "id": "lr919m7XQCiS",
        "outputId": "d32918ff-6522-4eb9-a259-b0707a05f48e"
      },
      "execution_count": 19,
      "outputs": [
        {
          "output_type": "stream",
          "name": "stdout",
          "text": [
            "Pay a fine.\n"
          ]
        }
      ]
    }
  ]
}