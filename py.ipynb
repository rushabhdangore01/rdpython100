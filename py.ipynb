{
  "nbformat": 4,
  "nbformat_minor": 0,
  "metadata": {
    "colab": {
      "provenance": []
    },
    "kernelspec": {
      "name": "python3",
      "display_name": "Python 3"
    },
    "language_info": {
      "name": "python"
    }
  },
  "cells": [
    {
      "cell_type": "code",
      "execution_count": null,
      "metadata": {
        "colab": {
          "base_uri": "https://localhost:8080/"
        },
        "id": "C20vUyPZN7nq",
        "outputId": "f3d707d5-6ee5-4c6b-d97b-01f9fa6c1ce6"
      },
      "outputs": [
        {
          "output_type": "stream",
          "name": "stdout",
          "text": [
            "{'brand': 'Ford', 'model': 'Mustang', 'year': 1964}\n"
          ]
        }
      ],
      "source": [
        "thisdict = {\n",
        "  \"brand\": \"Ford\",\n",
        "  \"model\": \"Mustang\",\n",
        "  \"year\": 1964\n",
        "}\n",
        "print(thisdict)"
      ]
    },
    {
      "cell_type": "markdown",
      "source": [
        "access item"
      ],
      "metadata": {
        "id": "vGTbrt5zOMAB"
      }
    },
    {
      "cell_type": "code",
      "source": [
        "thisdict = {\n",
        "  \"brand\": \"Ford\",\n",
        "  \"model\": \"Mustang\",\n",
        "  \"year\": 1964\n",
        "}\n",
        "x = thisdict[\"model\"]\n",
        "\n",
        "print(x)"
      ],
      "metadata": {
        "id": "UGV5_wfTON9Z",
        "colab": {
          "base_uri": "https://localhost:8080/"
        },
        "outputId": "ffc86808-ffdd-4f2c-c5af-fb4a2d448a7a"
      },
      "execution_count": 9,
      "outputs": [
        {
          "output_type": "stream",
          "name": "stdout",
          "text": [
            "Mustang\n"
          ]
        }
      ]
    },
    {
      "cell_type": "code",
      "source": [
        "thisdict = {\n",
        "  \"brand\": \"Ford\",\n",
        "  \"model\": \"Mustang\",\n",
        "  \"year\": 1964\n",
        "}\n",
        "thisdict[\"year\"] = 2018"
      ],
      "metadata": {
        "id": "bAhSSQlrOryG"
      },
      "execution_count": null,
      "outputs": []
    },
    {
      "cell_type": "markdown",
      "source": [
        "to add"
      ],
      "metadata": {
        "id": "ZF3Dt5_kO03h"
      }
    },
    {
      "cell_type": "code",
      "source": [
        "thisdict = {\n",
        "  \"brand\": \"Ford\",\n",
        "  \"model\": \"Mustang\",\n",
        "  \"year\": 1964\n",
        "}\n",
        "thisdict[\"color\"] = \"red\"\n",
        "print(thisdict)"
      ],
      "metadata": {
        "colab": {
          "base_uri": "https://localhost:8080/"
        },
        "id": "9Ha77av3O3Hf",
        "outputId": "e2f5440d-6f59-4a0d-86cf-f770a1228cb3"
      },
      "execution_count": 10,
      "outputs": [
        {
          "output_type": "stream",
          "name": "stdout",
          "text": [
            "{'brand': 'Ford', 'model': 'Mustang', 'year': 1964, 'color': 'red'}\n"
          ]
        }
      ]
    },
    {
      "cell_type": "markdown",
      "source": [
        "remove"
      ],
      "metadata": {
        "id": "OJXzIMWaO-LF"
      }
    },
    {
      "cell_type": "code",
      "source": [
        "thisdict = {\n",
        "  \"brand\": \"Ford\",\n",
        "  \"model\": \"Mustang\",\n",
        "  \"year\": 1964\n",
        "}\n",
        "thisdict.pop(\"model\")\n",
        "print(thisdict)"
      ],
      "metadata": {
        "colab": {
          "base_uri": "https://localhost:8080/"
        },
        "id": "9mNqyBpdO_M8",
        "outputId": "0710f415-aaee-4b95-c981-99e0d14d5d38"
      },
      "execution_count": 11,
      "outputs": [
        {
          "output_type": "stream",
          "name": "stdout",
          "text": [
            "{'brand': 'Ford', 'year': 1964}\n"
          ]
        }
      ]
    },
    {
      "cell_type": "code",
      "source": [],
      "metadata": {
        "id": "6_UD22hDPBVv"
      },
      "execution_count": null,
      "outputs": []
    },
    {
      "cell_type": "markdown",
      "source": [
        "function"
      ],
      "metadata": {
        "id": "22Dv_3Q9Pndq"
      }
    },
    {
      "cell_type": "code",
      "source": [
        "def my_fun():\n",
        "  print(\"Hello\")\n",
        "\n",
        "my_fun()"
      ],
      "metadata": {
        "colab": {
          "base_uri": "https://localhost:8080/"
        },
        "id": "KDWI7BUwPpz2",
        "outputId": "616e79fd-8328-4f9e-b608-03ca0bcb9355"
      },
      "execution_count": 13,
      "outputs": [
        {
          "output_type": "stream",
          "name": "stdout",
          "text": [
            "Hello\n"
          ]
        }
      ]
    },
    {
      "cell_type": "markdown",
      "source": [
        "to pass arg"
      ],
      "metadata": {
        "id": "9u-GKW_1P0l5"
      }
    },
    {
      "cell_type": "code",
      "source": [
        "def my_fun(fname):\n",
        "  print(fname + \" Resel\")\n",
        "\n",
        "my_fun(\"caron\")\n",
        "my_fun(\"mark\")\n",
        "my_fun(\"Linus\")"
      ],
      "metadata": {
        "colab": {
          "base_uri": "https://localhost:8080/"
        },
        "id": "nBlK4unrP2mv",
        "outputId": "852c348a-fc99-4260-bd4c-1d6c3ae7900d"
      },
      "execution_count": 16,
      "outputs": [
        {
          "output_type": "stream",
          "name": "stdout",
          "text": [
            "caron Resel\n",
            "mark Resel\n",
            "Linus Resel\n"
          ]
        }
      ]
    },
    {
      "cell_type": "markdown",
      "source": [
        "if else"
      ],
      "metadata": {
        "id": "R83vMcq4TIQD"
      }
    },
    {
      "cell_type": "code",
      "source": [
        "height = float(input(\"Enter height in m\"))  # Convert height to a float\n",
        "weight = float(input(\"enter weight in kg\"))  # Convert weight to a float\n",
        "bmi = weight / (height * height)\n",
        "if bmi < 18.5:\n",
        "  print(f\"Your BMI is {bmi}, you are underweight.\")\n",
        "elif bmi < 25:\n",
        "  print(f\"Your BMI is {bmi}, you have a normal weight.\")\n",
        "elif bmi < 30:\n",
        "  print(f\"Your BMI is {bmi}, you are slightly overweight.\")\n",
        "elif bmi < 35:\n",
        "  print(f\"Your BMI is {bmi}, you are obese.\")\n",
        "else:\n",
        "  print(f\"Your BMI is {bmi}, you are clinically obese.\")"
      ],
      "metadata": {
        "colab": {
          "base_uri": "https://localhost:8080/"
        },
        "id": "CzwTznJyTJh2",
        "outputId": "4d0531fc-509c-48c1-8340-322db86173c1"
      },
      "execution_count": 17,
      "outputs": [
        {
          "output_type": "stream",
          "name": "stdout",
          "text": [
            "Enter height in m1.7\n",
            "enter weight in kg60\n",
            "Your BMI is 20.761245674740486, you have a normal weight.\n"
          ]
        }
      ]
    },
    {
      "cell_type": "code",
      "source": [
        "import random\n",
        "random_side=random.randint(0,1)\n",
        "\n",
        "if random_side==1:\n",
        "  print(\"Head\")\n",
        "\n",
        "else:\n",
        "  print(\"Tail\")"
      ],
      "metadata": {
        "colab": {
          "base_uri": "https://localhost:8080/"
        },
        "id": "LLTLC82dTbXL",
        "outputId": "58eef25b-7c00-43d0-afe5-5af6abade398"
      },
      "execution_count": 18,
      "outputs": [
        {
          "output_type": "stream",
          "name": "stdout",
          "text": [
            "Head\n"
          ]
        }
      ]
    },
    {
      "cell_type": "markdown",
      "source": [
        "list"
      ],
      "metadata": {
        "id": "OyQMVf8lTpXK"
      }
    },
    {
      "cell_type": "code",
      "source": [
        "student_name= [\"Justine\",\"Lailah\",\"Keagan\",\"Tobias\",\"Izabelle\",\"Cristal\",\"Ari\",\"Kelton\",\"Kinley\",\"Beckham\"]\n",
        "\n",
        "print(student_name[0])\n",
        "print(student_name[5])\n",
        "\n",
        "student_name.append(\"john\")\n",
        "student_name.extend([\"Rushabh\",\"virat\",\"Rohit\"])\n",
        "print(student_name)"
      ],
      "metadata": {
        "colab": {
          "base_uri": "https://localhost:8080/"
        },
        "id": "m7K7EuKkTqKI",
        "outputId": "4ec06277-71d1-425a-f1ba-57280224e9da"
      },
      "execution_count": 19,
      "outputs": [
        {
          "output_type": "stream",
          "name": "stdout",
          "text": [
            "Justine\n",
            "Cristal\n",
            "['Justine', 'Lailah', 'Keagan', 'Tobias', 'Izabelle', 'Cristal', 'Ari', 'Kelton', 'Kinley', 'Beckham', 'john', 'Rushabh', 'virat', 'Rohit']\n"
          ]
        }
      ]
    },
    {
      "cell_type": "code",
      "source": [
        "fruits = [\"apple\", \"banana\", \"orange\", \"grape\", \"kiwi\"]\n",
        "numbers = [1, 5, 10, 15, 20]\n",
        "\n",
        "list=[fruits,numbers]\n",
        "print(list)"
      ],
      "metadata": {
        "colab": {
          "base_uri": "https://localhost:8080/"
        },
        "id": "C2OnOAQdT1li",
        "outputId": "00dcac0e-be34-4947-c856-d3c27aff7cd9"
      },
      "execution_count": 20,
      "outputs": [
        {
          "output_type": "stream",
          "name": "stdout",
          "text": [
            "[['apple', 'banana', 'orange', 'grape', 'kiwi'], [1, 5, 10, 15, 20]]\n"
          ]
        }
      ]
    },
    {
      "cell_type": "code",
      "source": [
        "num = int(input(\"Enter the number: \"))\n",
        "\n",
        "# Generate and print the table\n",
        "for i in range(1, 11):\n",
        "    result = num * i\n",
        "    print(f\"{num} x {i} = {result}\")"
      ],
      "metadata": {
        "id": "zMwbaqj5UBRn"
      },
      "execution_count": null,
      "outputs": []
    }
  ]
}